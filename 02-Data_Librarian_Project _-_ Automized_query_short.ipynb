{
 "cells": [
  {
   "cell_type": "code",
   "execution_count": 8,
   "metadata": {},
   "outputs": [],
   "source": [
    "import csv\n",
    "import requests\n",
    "import json"
   ]
  },
  {
   "cell_type": "code",
   "execution_count": 9,
   "metadata": {},
   "outputs": [],
   "source": [
    "for line in open('./aussonderung.csv', 'r'):\n",
    "    r = requests.get('https://lobid.org/resources/'+line.strip())"
   ]
  },
  {
   "cell_type": "code",
   "execution_count": 10,
   "metadata": {},
   "outputs": [],
   "source": [
    "data = r.json()\n",
    "holding = data['hasItem']\n",
    "x = len(holding)"
   ]
  },
  {
   "cell_type": "code",
   "execution_count": 11,
   "metadata": {},
   "outputs": [],
   "source": [
    "ht = data['id']\n",
    "ht_strip = ht.strip(\"http://lobid.org/resources/\")\n",
    "ht_number = ht_strip.strip(\"#!\")"
   ]
  },
  {
   "cell_type": "code",
   "execution_count": 12,
   "metadata": {},
   "outputs": [],
   "source": [
    "if x > 1 == True:\n",
    "    with open('./loeschliste.csv', 'w') as outfile1:\n",
    "        outfile1.writelines(ht_number)\n",
    "else:\n",
    "    with open('./alleinbesitz.csv', 'w') as outfile2:\n",
    "        outfile2.writelines(ht_number)"
   ]
  }
 ],
 "metadata": {
  "kernelspec": {
   "display_name": "Python 3",
   "language": "python",
   "name": "python3"
  },
  "language_info": {
   "codemirror_mode": {
    "name": "ipython",
    "version": 3
   },
   "file_extension": ".py",
   "mimetype": "text/x-python",
   "name": "python",
   "nbconvert_exporter": "python",
   "pygments_lexer": "ipython3",
   "version": "3.7.4"
  }
 },
 "nbformat": 4,
 "nbformat_minor": 2
}
