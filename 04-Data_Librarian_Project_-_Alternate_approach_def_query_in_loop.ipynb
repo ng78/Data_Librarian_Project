{
 "cells": [
  {
   "cell_type": "code",
   "execution_count": 1,
   "metadata": {},
   "outputs": [],
   "source": [
    "import urllib.request\n",
    "import urllib.parse"
   ]
  },
  {
   "cell_type": "code",
   "execution_count": 2,
   "metadata": {},
   "outputs": [],
   "source": [
    "request = urllib.request.urlopen(\"https://lobid.org/resources/HT020379995\")"
   ]
  },
  {
   "cell_type": "code",
   "execution_count": 3,
   "metadata": {},
   "outputs": [],
   "source": [
    "result = request.read().decode('utf-8')"
   ]
  },
  {
   "cell_type": "code",
   "execution_count": 4,
   "metadata": {},
   "outputs": [
    {
     "name": "stdout",
     "output_type": "stream",
     "text": [
      "{\n",
      "  \"type\" : [ \"Thesis\", \"Book\", \"BibliographicResource\" ],\n",
      "  \"contribution\" : [ {\n",
      "    \"type\" : [ \"Contribution\" ],\n",
      "    \"agent\" : {\n",
      "      \"id\" : \"https://d-nb.info/gnd/1205400621\",\n",
      "      \"type\" : [ \"Person\" ],\n",
      "      \"label\" : \"Tabassam, Nadra\",\n",
      "      \"gndIdentifier\" : \"1205400621\"\n",
      "    },\n",
      "    \"role\" : {\n",
      "      \"id\" : \"http://id.loc.gov/vocabulary/relators/cre\",\n",
      "      \"label\" : \"Autor/in\"\n",
      "    }\n",
      "  }, {\n",
      "    \"type\" : [ \"Contribution\" ],\n",
      "    \"agent\" : {\n",
      "      \"id\" : \"https://d-nb.info/gnd/138974063\",\n",
      "      \"type\" : [ \"Person\" ],\n",
      "      \"label\" : \"Obermaisser, Roman\",\n",
      "      \"altLabel\" : \"Obermaisser, R.\",\n",
      "      \"gndIdentifier\" : \"138974063\"\n",
      "    },\n",
      "    \"role\" : {\n",
      "      \"id\" : \"http://id.loc.gov/vocabulary/relators/dgs\",\n",
      "      \"label\" : \"Akademische Prüfungsperson\"\n",
      "    }\n",
      "  }, {\n",
      "    \"type\" : [ \"Contribution\" ],\n",
      "    \"agent\" : {\n",
      "      \"id\" : \"https://d-nb.info/gnd/64850-4\",\n",
      "      \"type\" : [ \"CorporateBody\" ],\n",
      "      \"label\" : \"Universität Siegen\",\n",
      "      \"altLabel\" : [ \"Université Siegen\", \"Universität-GH Siegen\", \"University Siegen\", \"Siegen University\", \"Universität GH Siegen\", \"Universität-Gesamthochschule Siegen\", \"Universität - Gesamthochschule Siegen\", \"Gesamthochschule Siegen. Universität Siegen\", \"Universität. Siegen\", \"University of Siegen\" ],\n",
      "      \"gndIdentifier\" : \"64850-4\"\n",
      "    },\n",
      "    \"role\" : {\n",
      "      \"id\" : \"http://id.loc.gov/vocabulary/relators/dgg\",\n",
      "      \"label\" : \"Hochschule\"\n",
      "    }\n",
      "  } ],\n",
      "  \"extent\" : \"xviii, 146 Seiten\",\n",
      "  \"hasItem\" : [ {\n",
      "    \"id\" : \"http://lobid.org/items/HT020379995:DE-467:09ZZXA20583#!\",\n",
      "    \"type\" : [ \"Item\" ],\n",
      "    \"heldBy\" : {\n",
      "      \"id\" : \"http://lobid.org/organisations/DE-467#!\",\n",
      "      \"label\" : \"lobid Organisation\"\n",
      "    },\n",
      "    \"note\" : \"H_MAG\",\n",
      "    \"callNumber\" : \"09ZZXA20583\",\n",
      "    \"label\" : \"09ZZXA20583\"\n",
      "  }, {\n",
      "    \"id\" : \"http://lobid.org/items/HT020379995:DE-467:08ZZZB30300#!\",\n",
      "    \"type\" : [ \"Item\" ],\n",
      "    \"heldBy\" : {\n",
      "      \"id\" : \"http://lobid.org/organisations/DE-467#!\",\n",
      "      \"label\" : \"lobid Organisation\"\n",
      "    },\n",
      "    \"note\" : \"W_MAG\",\n",
      "    \"callNumber\" : \"08ZZZB30300\",\n",
      "    \"label\" : \"08ZZZB30300\"\n",
      "  } ],\n",
      "  \"responsibilityStatement\" : [ \"submitted by Nadra Tabassam ; Supervisor and First Appraiser: Prof. Dr. Roman Obermaisser, University of Siegen\" ],\n",
      "  \"language\" : [ {\n",
      "    \"id\" : \"http://id.loc.gov/vocabulary/iso639-2/eng\",\n",
      "    \"label\" : \"Englisch\"\n",
      "  } ],\n",
      "  \"medium\" : [ {\n",
      "    \"id\" : \"http://rdaregistry.info/termList/RDAproductionMethod/1010\",\n",
      "    \"label\" : \"Print\"\n",
      "  } ],\n",
      "  \"related\" : [ {\n",
      "    \"id\" : \"http://lobid.org/resources/HT020379999#!\",\n",
      "    \"label\" : \"Minimizing the makespan of diagnostic multi-query graphs in embedded real time systems\"\n",
      "  } ],\n",
      "  \"title\" : \"Minimizing the makespan of diagnostic multi-query graphs in embedded real time systems\",\n",
      "  \"hbzId\" : \"HT020379995\",\n",
      "  \"thesisInformation\" : [ \"Universität Siegen, Dissertation, 2020\" ],\n",
      "  \"natureOfContent\" : [ {\n",
      "    \"id\" : \"https://d-nb.info/gnd/4113937-9\",\n",
      "    \"label\" : \"Hochschulschrift\"\n",
      "  } ],\n",
      "  \"publication\" : [ {\n",
      "    \"type\" : [ \"PublicationEvent\" ],\n",
      "    \"location\" : \"Siegen\",\n",
      "    \"startDate\" : \"2020\"\n",
      "  } ],\n",
      "  \"sameAs\" : [ {\n",
      "    \"id\" : \"http://hub.culturegraph.org/resource/HBZ-HT020379995\",\n",
      "    \"label\" : \"Culturegraph Ressource\"\n",
      "  } ],\n",
      "  \"describedBy\" : {\n",
      "    \"id\" : \"http://lobid.org/resources/HT020379995\",\n",
      "    \"type\" : [ \"BibliographicDescription\" ],\n",
      "    \"dateCreated\" : \"20200226\",\n",
      "    \"inDataset\" : {\n",
      "      \"id\" : \"http://lobid.org/resources/dataset#!\",\n",
      "      \"label\" : \"lobid-resources – Der hbz-Verbundkatalog als Linked Open Data\"\n",
      "    },\n",
      "    \"resultOf\" : {\n",
      "      \"type\" : [ \"CreateAction\" ],\n",
      "      \"endTime\" : \"2020-06-17T01:06:11\",\n",
      "      \"instrument\" : {\n",
      "        \"id\" : \"https://github.com/hbz/lobid-resources\",\n",
      "        \"type\" : [ \"SoftwareApplication\" ],\n",
      "        \"label\" : \"Software lobid-resources\"\n",
      "      },\n",
      "      \"object\" : {\n",
      "        \"id\" : \"http://lobid.org/hbz01/HT020379995\",\n",
      "        \"type\" : [ \"DataFeedItem\" ],\n",
      "        \"inDataset\" : {\n",
      "          \"id\" : \"https://datahub.io/dataset/hbz_unioncatalog\",\n",
      "          \"label\" : \"hbz_unioncatalog\"\n",
      "        },\n",
      "        \"label\" : \"hbz-Ressource HT020379995 im Exportformat MAB2-XML\"\n",
      "      }\n",
      "    },\n",
      "    \"license\" : [ {\n",
      "      \"id\" : \"http://creativecommons.org/publicdomain/zero/1.0\",\n",
      "      \"label\" : \"Creative Commons-Lizenz CC0 1.0 Universal\"\n",
      "    } ],\n",
      "    \"sourceOrganization\" : {\n",
      "      \"id\" : \"http://lobid.org/organisations/DE-467#!\",\n",
      "      \"label\" : \"lobid Organisation\"\n",
      "    },\n",
      "    \"label\" : \"Webseite der hbz-Ressource HT020379995\"\n",
      "  },\n",
      "  \"@context\" : \"http://lobid.org/resources/context.jsonld\",\n",
      "  \"id\" : \"http://lobid.org/resources/HT020379995#!\"\n",
      "}\n"
     ]
    }
   ],
   "source": [
    "print(result)"
   ]
  },
  {
   "cell_type": "code",
   "execution_count": 5,
   "metadata": {},
   "outputs": [],
   "source": [
    "import json"
   ]
  },
  {
   "cell_type": "code",
   "execution_count": 6,
   "metadata": {
    "scrolled": false
   },
   "outputs": [
    {
     "data": {
      "text/plain": [
       "{'type': ['Thesis', 'Book', 'BibliographicResource'],\n",
       " 'contribution': [{'type': ['Contribution'],\n",
       "   'agent': {'id': 'https://d-nb.info/gnd/1205400621',\n",
       "    'type': ['Person'],\n",
       "    'label': 'Tabassam, Nadra',\n",
       "    'gndIdentifier': '1205400621'},\n",
       "   'role': {'id': 'http://id.loc.gov/vocabulary/relators/cre',\n",
       "    'label': 'Autor/in'}},\n",
       "  {'type': ['Contribution'],\n",
       "   'agent': {'id': 'https://d-nb.info/gnd/138974063',\n",
       "    'type': ['Person'],\n",
       "    'label': 'Obermaisser, Roman',\n",
       "    'altLabel': 'Obermaisser, R.',\n",
       "    'gndIdentifier': '138974063'},\n",
       "   'role': {'id': 'http://id.loc.gov/vocabulary/relators/dgs',\n",
       "    'label': 'Akademische Prüfungsperson'}},\n",
       "  {'type': ['Contribution'],\n",
       "   'agent': {'id': 'https://d-nb.info/gnd/64850-4',\n",
       "    'type': ['CorporateBody'],\n",
       "    'label': 'Universität Siegen',\n",
       "    'altLabel': ['Université Siegen',\n",
       "     'Universität-GH Siegen',\n",
       "     'University Siegen',\n",
       "     'Siegen University',\n",
       "     'Universität GH Siegen',\n",
       "     'Universität-Gesamthochschule Siegen',\n",
       "     'Universität - Gesamthochschule Siegen',\n",
       "     'Gesamthochschule Siegen. Universität Siegen',\n",
       "     'Universität. Siegen',\n",
       "     'University of Siegen'],\n",
       "    'gndIdentifier': '64850-4'},\n",
       "   'role': {'id': 'http://id.loc.gov/vocabulary/relators/dgg',\n",
       "    'label': 'Hochschule'}}],\n",
       " 'extent': 'xviii, 146 Seiten',\n",
       " 'hasItem': [{'id': 'http://lobid.org/items/HT020379995:DE-467:09ZZXA20583#!',\n",
       "   'type': ['Item'],\n",
       "   'heldBy': {'id': 'http://lobid.org/organisations/DE-467#!',\n",
       "    'label': 'lobid Organisation'},\n",
       "   'note': 'H_MAG',\n",
       "   'callNumber': '09ZZXA20583',\n",
       "   'label': '09ZZXA20583'},\n",
       "  {'id': 'http://lobid.org/items/HT020379995:DE-467:08ZZZB30300#!',\n",
       "   'type': ['Item'],\n",
       "   'heldBy': {'id': 'http://lobid.org/organisations/DE-467#!',\n",
       "    'label': 'lobid Organisation'},\n",
       "   'note': 'W_MAG',\n",
       "   'callNumber': '08ZZZB30300',\n",
       "   'label': '08ZZZB30300'}],\n",
       " 'responsibilityStatement': ['submitted by Nadra Tabassam ; Supervisor and First Appraiser: Prof. Dr. Roman Obermaisser, University of Siegen'],\n",
       " 'language': [{'id': 'http://id.loc.gov/vocabulary/iso639-2/eng',\n",
       "   'label': 'Englisch'}],\n",
       " 'medium': [{'id': 'http://rdaregistry.info/termList/RDAproductionMethod/1010',\n",
       "   'label': 'Print'}],\n",
       " 'related': [{'id': 'http://lobid.org/resources/HT020379999#!',\n",
       "   'label': 'Minimizing the makespan of diagnostic multi-query graphs in embedded real time systems'}],\n",
       " 'title': 'Minimizing the makespan of diagnostic multi-query graphs in embedded real time systems',\n",
       " 'hbzId': 'HT020379995',\n",
       " 'thesisInformation': ['Universität Siegen, Dissertation, 2020'],\n",
       " 'natureOfContent': [{'id': 'https://d-nb.info/gnd/4113937-9',\n",
       "   'label': 'Hochschulschrift'}],\n",
       " 'publication': [{'type': ['PublicationEvent'],\n",
       "   'location': 'Siegen',\n",
       "   'startDate': '2020'}],\n",
       " 'sameAs': [{'id': 'http://hub.culturegraph.org/resource/HBZ-HT020379995',\n",
       "   'label': 'Culturegraph Ressource'}],\n",
       " 'describedBy': {'id': 'http://lobid.org/resources/HT020379995',\n",
       "  'type': ['BibliographicDescription'],\n",
       "  'dateCreated': '20200226',\n",
       "  'inDataset': {'id': 'http://lobid.org/resources/dataset#!',\n",
       "   'label': 'lobid-resources – Der hbz-Verbundkatalog als Linked Open Data'},\n",
       "  'resultOf': {'type': ['CreateAction'],\n",
       "   'endTime': '2020-06-17T01:06:11',\n",
       "   'instrument': {'id': 'https://github.com/hbz/lobid-resources',\n",
       "    'type': ['SoftwareApplication'],\n",
       "    'label': 'Software lobid-resources'},\n",
       "   'object': {'id': 'http://lobid.org/hbz01/HT020379995',\n",
       "    'type': ['DataFeedItem'],\n",
       "    'inDataset': {'id': 'https://datahub.io/dataset/hbz_unioncatalog',\n",
       "     'label': 'hbz_unioncatalog'},\n",
       "    'label': 'hbz-Ressource HT020379995 im Exportformat MAB2-XML'}},\n",
       "  'license': [{'id': 'http://creativecommons.org/publicdomain/zero/1.0',\n",
       "    'label': 'Creative Commons-Lizenz CC0 1.0 Universal'}],\n",
       "  'sourceOrganization': {'id': 'http://lobid.org/organisations/DE-467#!',\n",
       "   'label': 'lobid Organisation'},\n",
       "  'label': 'Webseite der hbz-Ressource HT020379995'},\n",
       " '@context': 'http://lobid.org/resources/context.jsonld',\n",
       " 'id': 'http://lobid.org/resources/HT020379995#!'}"
      ]
     },
     "execution_count": 6,
     "metadata": {},
     "output_type": "execute_result"
    }
   ],
   "source": [
    "json.load(urllib.request.urlopen(\"https://lobid.org/resources/HT020379995\"))"
   ]
  },
  {
   "cell_type": "code",
   "execution_count": 7,
   "metadata": {},
   "outputs": [],
   "source": [
    "url = \"https://lobid.org/resources/HT020379995\""
   ]
  },
  {
   "cell_type": "code",
   "execution_count": 8,
   "metadata": {},
   "outputs": [],
   "source": [
    "json_obj = urllib.request.urlopen(url)"
   ]
  },
  {
   "cell_type": "code",
   "execution_count": 9,
   "metadata": {},
   "outputs": [],
   "source": [
    "data = json.load(json_obj)"
   ]
  },
  {
   "cell_type": "code",
   "execution_count": 10,
   "metadata": {},
   "outputs": [
    {
     "data": {
      "text/plain": [
       "dict"
      ]
     },
     "execution_count": 10,
     "metadata": {},
     "output_type": "execute_result"
    }
   ],
   "source": [
    "type(data)"
   ]
  },
  {
   "cell_type": "code",
   "execution_count": 11,
   "metadata": {},
   "outputs": [
    {
     "name": "stdout",
     "output_type": "stream",
     "text": [
      "{'type': ['Thesis', 'Book', 'BibliographicResource'], 'contribution': [{'type': ['Contribution'], 'agent': {'id': 'https://d-nb.info/gnd/1205400621', 'type': ['Person'], 'label': 'Tabassam, Nadra', 'gndIdentifier': '1205400621'}, 'role': {'id': 'http://id.loc.gov/vocabulary/relators/cre', 'label': 'Autor/in'}}, {'type': ['Contribution'], 'agent': {'id': 'https://d-nb.info/gnd/138974063', 'type': ['Person'], 'label': 'Obermaisser, Roman', 'altLabel': 'Obermaisser, R.', 'gndIdentifier': '138974063'}, 'role': {'id': 'http://id.loc.gov/vocabulary/relators/dgs', 'label': 'Akademische Prüfungsperson'}}, {'type': ['Contribution'], 'agent': {'id': 'https://d-nb.info/gnd/64850-4', 'type': ['CorporateBody'], 'label': 'Universität Siegen', 'altLabel': ['Université Siegen', 'Universität-GH Siegen', 'University Siegen', 'Siegen University', 'Universität GH Siegen', 'Universität-Gesamthochschule Siegen', 'Universität - Gesamthochschule Siegen', 'Gesamthochschule Siegen. Universität Siegen', 'Universität. Siegen', 'University of Siegen'], 'gndIdentifier': '64850-4'}, 'role': {'id': 'http://id.loc.gov/vocabulary/relators/dgg', 'label': 'Hochschule'}}], 'extent': 'xviii, 146 Seiten', 'hasItem': [{'id': 'http://lobid.org/items/HT020379995:DE-467:09ZZXA20583#!', 'type': ['Item'], 'heldBy': {'id': 'http://lobid.org/organisations/DE-467#!', 'label': 'lobid Organisation'}, 'note': 'H_MAG', 'callNumber': '09ZZXA20583', 'label': '09ZZXA20583'}, {'id': 'http://lobid.org/items/HT020379995:DE-467:08ZZZB30300#!', 'type': ['Item'], 'heldBy': {'id': 'http://lobid.org/organisations/DE-467#!', 'label': 'lobid Organisation'}, 'note': 'W_MAG', 'callNumber': '08ZZZB30300', 'label': '08ZZZB30300'}], 'responsibilityStatement': ['submitted by Nadra Tabassam ; Supervisor and First Appraiser: Prof. Dr. Roman Obermaisser, University of Siegen'], 'language': [{'id': 'http://id.loc.gov/vocabulary/iso639-2/eng', 'label': 'Englisch'}], 'medium': [{'id': 'http://rdaregistry.info/termList/RDAproductionMethod/1010', 'label': 'Print'}], 'related': [{'id': 'http://lobid.org/resources/HT020379999#!', 'label': 'Minimizing the makespan of diagnostic multi-query graphs in embedded real time systems'}], 'title': 'Minimizing the makespan of diagnostic multi-query graphs in embedded real time systems', 'hbzId': 'HT020379995', 'thesisInformation': ['Universität Siegen, Dissertation, 2020'], 'natureOfContent': [{'id': 'https://d-nb.info/gnd/4113937-9', 'label': 'Hochschulschrift'}], 'publication': [{'type': ['PublicationEvent'], 'location': 'Siegen', 'startDate': '2020'}], 'sameAs': [{'id': 'http://hub.culturegraph.org/resource/HBZ-HT020379995', 'label': 'Culturegraph Ressource'}], 'describedBy': {'id': 'http://lobid.org/resources/HT020379995', 'type': ['BibliographicDescription'], 'dateCreated': '20200226', 'inDataset': {'id': 'http://lobid.org/resources/dataset#!', 'label': 'lobid-resources – Der hbz-Verbundkatalog als Linked Open Data'}, 'resultOf': {'type': ['CreateAction'], 'endTime': '2020-06-17T01:06:11', 'instrument': {'id': 'https://github.com/hbz/lobid-resources', 'type': ['SoftwareApplication'], 'label': 'Software lobid-resources'}, 'object': {'id': 'http://lobid.org/hbz01/HT020379995', 'type': ['DataFeedItem'], 'inDataset': {'id': 'https://datahub.io/dataset/hbz_unioncatalog', 'label': 'hbz_unioncatalog'}, 'label': 'hbz-Ressource HT020379995 im Exportformat MAB2-XML'}}, 'license': [{'id': 'http://creativecommons.org/publicdomain/zero/1.0', 'label': 'Creative Commons-Lizenz CC0 1.0 Universal'}], 'sourceOrganization': {'id': 'http://lobid.org/organisations/DE-467#!', 'label': 'lobid Organisation'}, 'label': 'Webseite der hbz-Ressource HT020379995'}, '@context': 'http://lobid.org/resources/context.jsonld', 'id': 'http://lobid.org/resources/HT020379995#!'}\n"
     ]
    }
   ],
   "source": [
    "print(data)"
   ]
  },
  {
   "cell_type": "code",
   "execution_count": 12,
   "metadata": {},
   "outputs": [
    {
     "name": "stdout",
     "output_type": "stream",
     "text": [
      "{\n",
      "  \"type\": [\n",
      "    \"Thesis\",\n",
      "    \"Book\",\n",
      "    \"BibliographicResource\"\n",
      "  ],\n",
      "  \"contribution\": [\n",
      "    {\n",
      "      \"type\": [\n",
      "        \"Contribution\"\n",
      "      ],\n",
      "      \"agent\": {\n",
      "        \"id\": \"https://d-nb.info/gnd/1205400621\",\n",
      "        \"type\": [\n",
      "          \"Person\"\n",
      "        ],\n",
      "        \"label\": \"Tabassam, Nadra\",\n",
      "        \"gndIdentifier\": \"1205400621\"\n",
      "      },\n",
      "      \"role\": {\n",
      "        \"id\": \"http://id.loc.gov/vocabulary/relators/cre\",\n",
      "        \"label\": \"Autor/in\"\n",
      "      }\n",
      "    },\n",
      "    {\n",
      "      \"type\": [\n",
      "        \"Contribution\"\n",
      "      ],\n",
      "      \"agent\": {\n",
      "        \"id\": \"https://d-nb.info/gnd/138974063\",\n",
      "        \"type\": [\n",
      "          \"Person\"\n",
      "        ],\n",
      "        \"label\": \"Obermaisser, Roman\",\n",
      "        \"altLabel\": \"Obermaisser, R.\",\n",
      "        \"gndIdentifier\": \"138974063\"\n",
      "      },\n",
      "      \"role\": {\n",
      "        \"id\": \"http://id.loc.gov/vocabulary/relators/dgs\",\n",
      "        \"label\": \"Akademische Pr\\u00fcfungsperson\"\n",
      "      }\n",
      "    },\n",
      "    {\n",
      "      \"type\": [\n",
      "        \"Contribution\"\n",
      "      ],\n",
      "      \"agent\": {\n",
      "        \"id\": \"https://d-nb.info/gnd/64850-4\",\n",
      "        \"type\": [\n",
      "          \"CorporateBody\"\n",
      "        ],\n",
      "        \"label\": \"Universit\\u00e4t Siegen\",\n",
      "        \"altLabel\": [\n",
      "          \"Universit\\u00e9 Siegen\",\n",
      "          \"Universit\\u00e4t-GH Siegen\",\n",
      "          \"University Siegen\",\n",
      "          \"Siegen University\",\n",
      "          \"Universit\\u00e4t GH Siegen\",\n",
      "          \"Universit\\u00e4t-Gesamthochschule Siegen\",\n",
      "          \"Universit\\u00e4t - Gesamthochschule Siegen\",\n",
      "          \"Gesamthochschule Siegen. Universit\\u00e4t Siegen\",\n",
      "          \"Universit\\u00e4t. Siegen\",\n",
      "          \"University of Siegen\"\n",
      "        ],\n",
      "        \"gndIdentifier\": \"64850-4\"\n",
      "      },\n",
      "      \"role\": {\n",
      "        \"id\": \"http://id.loc.gov/vocabulary/relators/dgg\",\n",
      "        \"label\": \"Hochschule\"\n",
      "      }\n",
      "    }\n",
      "  ],\n",
      "  \"extent\": \"xviii, 146 Seiten\",\n",
      "  \"hasItem\": [\n",
      "    {\n",
      "      \"id\": \"http://lobid.org/items/HT020379995:DE-467:09ZZXA20583#!\",\n",
      "      \"type\": [\n",
      "        \"Item\"\n",
      "      ],\n",
      "      \"heldBy\": {\n",
      "        \"id\": \"http://lobid.org/organisations/DE-467#!\",\n",
      "        \"label\": \"lobid Organisation\"\n",
      "      },\n",
      "      \"note\": \"H_MAG\",\n",
      "      \"callNumber\": \"09ZZXA20583\",\n",
      "      \"label\": \"09ZZXA20583\"\n",
      "    },\n",
      "    {\n",
      "      \"id\": \"http://lobid.org/items/HT020379995:DE-467:08ZZZB30300#!\",\n",
      "      \"type\": [\n",
      "        \"Item\"\n",
      "      ],\n",
      "      \"heldBy\": {\n",
      "        \"id\": \"http://lobid.org/organisations/DE-467#!\",\n",
      "        \"label\": \"lobid Organisation\"\n",
      "      },\n",
      "      \"note\": \"W_MAG\",\n",
      "      \"callNumber\": \"08ZZZB30300\",\n",
      "      \"label\": \"08ZZZB30300\"\n",
      "    }\n",
      "  ],\n",
      "  \"responsibilityStatement\": [\n",
      "    \"submitted by Nadra Tabassam ; Supervisor and First Appraiser: Prof. Dr. Roman Obermaisser, University of Siegen\"\n",
      "  ],\n",
      "  \"language\": [\n",
      "    {\n",
      "      \"id\": \"http://id.loc.gov/vocabulary/iso639-2/eng\",\n",
      "      \"label\": \"Englisch\"\n",
      "    }\n",
      "  ],\n",
      "  \"medium\": [\n",
      "    {\n",
      "      \"id\": \"http://rdaregistry.info/termList/RDAproductionMethod/1010\",\n",
      "      \"label\": \"Print\"\n",
      "    }\n",
      "  ],\n",
      "  \"related\": [\n",
      "    {\n",
      "      \"id\": \"http://lobid.org/resources/HT020379999#!\",\n",
      "      \"label\": \"Minimizing the makespan of diagnostic multi-query graphs in embedded real time systems\"\n",
      "    }\n",
      "  ],\n",
      "  \"title\": \"Minimizing the makespan of diagnostic multi-query graphs in embedded real time systems\",\n",
      "  \"hbzId\": \"HT020379995\",\n",
      "  \"thesisInformation\": [\n",
      "    \"Universit\\u00e4t Siegen, Dissertation, 2020\"\n",
      "  ],\n",
      "  \"natureOfContent\": [\n",
      "    {\n",
      "      \"id\": \"https://d-nb.info/gnd/4113937-9\",\n",
      "      \"label\": \"Hochschulschrift\"\n",
      "    }\n",
      "  ],\n",
      "  \"publication\": [\n",
      "    {\n",
      "      \"type\": [\n",
      "        \"PublicationEvent\"\n",
      "      ],\n",
      "      \"location\": \"Siegen\",\n",
      "      \"startDate\": \"2020\"\n",
      "    }\n",
      "  ],\n",
      "  \"sameAs\": [\n",
      "    {\n",
      "      \"id\": \"http://hub.culturegraph.org/resource/HBZ-HT020379995\",\n",
      "      \"label\": \"Culturegraph Ressource\"\n",
      "    }\n",
      "  ],\n",
      "  \"describedBy\": {\n",
      "    \"id\": \"http://lobid.org/resources/HT020379995\",\n",
      "    \"type\": [\n",
      "      \"BibliographicDescription\"\n",
      "    ],\n",
      "    \"dateCreated\": \"20200226\",\n",
      "    \"inDataset\": {\n",
      "      \"id\": \"http://lobid.org/resources/dataset#!\",\n",
      "      \"label\": \"lobid-resources \\u2013 Der hbz-Verbundkatalog als Linked Open Data\"\n",
      "    },\n",
      "    \"resultOf\": {\n",
      "      \"type\": [\n",
      "        \"CreateAction\"\n",
      "      ],\n",
      "      \"endTime\": \"2020-06-17T01:06:11\",\n",
      "      \"instrument\": {\n",
      "        \"id\": \"https://github.com/hbz/lobid-resources\",\n",
      "        \"type\": [\n",
      "          \"SoftwareApplication\"\n",
      "        ],\n",
      "        \"label\": \"Software lobid-resources\"\n",
      "      },\n",
      "      \"object\": {\n",
      "        \"id\": \"http://lobid.org/hbz01/HT020379995\",\n",
      "        \"type\": [\n",
      "          \"DataFeedItem\"\n",
      "        ],\n",
      "        \"inDataset\": {\n",
      "          \"id\": \"https://datahub.io/dataset/hbz_unioncatalog\",\n",
      "          \"label\": \"hbz_unioncatalog\"\n",
      "        },\n",
      "        \"label\": \"hbz-Ressource HT020379995 im Exportformat MAB2-XML\"\n",
      "      }\n",
      "    },\n",
      "    \"license\": [\n",
      "      {\n",
      "        \"id\": \"http://creativecommons.org/publicdomain/zero/1.0\",\n",
      "        \"label\": \"Creative Commons-Lizenz CC0 1.0 Universal\"\n",
      "      }\n",
      "    ],\n",
      "    \"sourceOrganization\": {\n",
      "      \"id\": \"http://lobid.org/organisations/DE-467#!\",\n",
      "      \"label\": \"lobid Organisation\"\n",
      "    },\n",
      "    \"label\": \"Webseite der hbz-Ressource HT020379995\"\n",
      "  },\n",
      "  \"@context\": \"http://lobid.org/resources/context.jsonld\",\n",
      "  \"id\": \"http://lobid.org/resources/HT020379995#!\"\n",
      "}\n"
     ]
    }
   ],
   "source": [
    "print(json.dumps(data, indent=2))"
   ]
  },
  {
   "cell_type": "code",
   "execution_count": 13,
   "metadata": {},
   "outputs": [
    {
     "name": "stdout",
     "output_type": "stream",
     "text": [
      "dict_keys(['type', 'contribution', 'extent', 'hasItem', 'responsibilityStatement', 'language', 'medium', 'related', 'title', 'hbzId', 'thesisInformation', 'natureOfContent', 'publication', 'sameAs', 'describedBy', '@context', 'id'])\n"
     ]
    }
   ],
   "source": [
    "print(data.keys())"
   ]
  },
  {
   "cell_type": "code",
   "execution_count": 14,
   "metadata": {},
   "outputs": [
    {
     "name": "stdout",
     "output_type": "stream",
     "text": [
      "{'id': 'http://lobid.org/items/HT020379995:DE-467:09ZZXA20583#!', 'type': ['Item'], 'heldBy': {'id': 'http://lobid.org/organisations/DE-467#!', 'label': 'lobid Organisation'}, 'note': 'H_MAG', 'callNumber': '09ZZXA20583', 'label': '09ZZXA20583'}\n",
      "{'id': 'http://lobid.org/items/HT020379995:DE-467:08ZZZB30300#!', 'type': ['Item'], 'heldBy': {'id': 'http://lobid.org/organisations/DE-467#!', 'label': 'lobid Organisation'}, 'note': 'W_MAG', 'callNumber': '08ZZZB30300', 'label': '08ZZZB30300'}\n"
     ]
    }
   ],
   "source": [
    "for item in data[\"hasItem\"]:\n",
    "    print(str(item))"
   ]
  },
  {
   "cell_type": "code",
   "execution_count": 15,
   "metadata": {},
   "outputs": [
    {
     "name": "stdout",
     "output_type": "stream",
     "text": [
      "{'id': 'http://lobid.org/organisations/DE-467#!', 'label': 'lobid Organisation'}\n",
      "{'id': 'http://lobid.org/organisations/DE-467#!', 'label': 'lobid Organisation'}\n"
     ]
    }
   ],
   "source": [
    "for item in data[\"hasItem\"]:\n",
    "    print(item[\"heldBy\"])"
   ]
  },
  {
   "cell_type": "code",
   "execution_count": 16,
   "metadata": {},
   "outputs": [
    {
     "name": "stdout",
     "output_type": "stream",
     "text": [
      "<class 'list'>\n",
      "2\n"
     ]
    }
   ],
   "source": [
    "holding = data['hasItem']\n",
    "print(type(holding))\n",
    "print(len(holding))"
   ]
  },
  {
   "cell_type": "code",
   "execution_count": 17,
   "metadata": {},
   "outputs": [
    {
     "name": "stdout",
     "output_type": "stream",
     "text": [
      "2\n"
     ]
    }
   ],
   "source": [
    "x = len(holding)\n",
    "print(x)"
   ]
  },
  {
   "cell_type": "code",
   "execution_count": 18,
   "metadata": {},
   "outputs": [
    {
     "name": "stdout",
     "output_type": "stream",
     "text": [
      "True\n"
     ]
    }
   ],
   "source": [
    "if x > 1 == True:\n",
    "    print(\"True\")\n",
    "else:\n",
    "    print(\"False\")"
   ]
  },
  {
   "cell_type": "code",
   "execution_count": 19,
   "metadata": {},
   "outputs": [],
   "source": [
    "with open('./aussonderung.csv', 'r') as infile:\n",
    "    titles = infile.readlines()"
   ]
  },
  {
   "cell_type": "code",
   "execution_count": 20,
   "metadata": {},
   "outputs": [
    {
     "data": {
      "text/plain": [
       "list"
      ]
     },
     "execution_count": 20,
     "metadata": {},
     "output_type": "execute_result"
    }
   ],
   "source": [
    "type(titles)"
   ]
  },
  {
   "cell_type": "code",
   "execution_count": 21,
   "metadata": {},
   "outputs": [
    {
     "name": "stdout",
     "output_type": "stream",
     "text": [
      "['HT019793989\\n', 'HT020379995\\n', 'HT020319679\\n', 'HT014682026\\n']\n"
     ]
    }
   ],
   "source": [
    "print(titles)"
   ]
  },
  {
   "cell_type": "code",
   "execution_count": 22,
   "metadata": {},
   "outputs": [
    {
     "name": "stdout",
     "output_type": "stream",
     "text": [
      "HT019793989\n",
      "HT020379995\n",
      "HT020319679\n",
      "HT014682026\n"
     ]
    }
   ],
   "source": [
    "for title in titles:\n",
    "    print(title.strip())"
   ]
  },
  {
   "cell_type": "code",
   "execution_count": 27,
   "metadata": {},
   "outputs": [],
   "source": [
    "def lobid_request(query):\n",
    "    url = \"https://lobid.org/resources/\"\n",
    "    title = query\n",
    "    final_url = url + title\n",
    "    json_obj = urllib.request.urlopen(final_url)\n",
    "    data = json.load(json_obj)\n",
    "    holding = data['hasItem']\n",
    "    x = len(holding)\n",
    "\n",
    "    \n",
    "    for title in data[\"hasItem\"]:\n",
    "        if x > 1 == True:\n",
    "            print(\"True\")\n",
    "        else:\n",
    "            print(\"False\")"
   ]
  },
  {
   "cell_type": "code",
   "execution_count": 29,
   "metadata": {},
   "outputs": [
    {
     "name": "stdout",
     "output_type": "stream",
     "text": [
      "{'id': 'http://lobid.org/organisations/DE-386-42#!', 'label': 'lobid Organisation'}\n",
      "{'id': 'http://lobid.org/organisations/DE-467#!', 'label': 'lobid Organisation'}\n"
     ]
    }
   ],
   "source": [
    "lobid_request(\"HT020319679\")"
   ]
  },
  {
   "cell_type": "code",
   "execution_count": 28,
   "metadata": {},
   "outputs": [
    {
     "name": "stdout",
     "output_type": "stream",
     "text": [
      "False\n",
      "True\n",
      "True\n",
      "True\n",
      "True\n",
      "True\n",
      "True\n",
      "True\n",
      "True\n",
      "True\n",
      "True\n",
      "True\n",
      "True\n",
      "True\n",
      "True\n",
      "True\n",
      "True\n"
     ]
    }
   ],
   "source": [
    "for title in titles:\n",
    "    lobid_request(title)"
   ]
  },
  {
   "cell_type": "code",
   "execution_count": null,
   "metadata": {},
   "outputs": [],
   "source": []
  }
 ],
 "metadata": {
  "kernelspec": {
   "display_name": "Python 3",
   "language": "python",
   "name": "python3"
  },
  "language_info": {
   "codemirror_mode": {
    "name": "ipython",
    "version": 3
   },
   "file_extension": ".py",
   "mimetype": "text/x-python",
   "name": "python",
   "nbconvert_exporter": "python",
   "pygments_lexer": "ipython3",
   "version": "3.7.4"
  }
 },
 "nbformat": 4,
 "nbformat_minor": 2
}
