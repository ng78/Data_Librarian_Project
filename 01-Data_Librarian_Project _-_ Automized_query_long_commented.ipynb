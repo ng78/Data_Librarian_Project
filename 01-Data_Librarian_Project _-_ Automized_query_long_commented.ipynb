{
 "cells": [
  {
   "cell_type": "markdown",
   "metadata": {},
   "source": [
    "# Öffnen und Analyse der Datei"
   ]
  },
  {
   "cell_type": "markdown",
   "metadata": {},
   "source": [
    "### Importieren des csv-Moduls"
   ]
  },
  {
   "cell_type": "code",
   "execution_count": 38,
   "metadata": {},
   "outputs": [],
   "source": [
    "import csv"
   ]
  },
  {
   "cell_type": "markdown",
   "metadata": {},
   "source": [
    "### Öffnen der Datei als Variable"
   ]
  },
  {
   "cell_type": "code",
   "execution_count": 39,
   "metadata": {},
   "outputs": [],
   "source": [
    "file = open(\"./aussonderung.csv\", \"r\")"
   ]
  },
  {
   "cell_type": "markdown",
   "metadata": {},
   "source": [
    "### Verifizierung des Typs"
   ]
  },
  {
   "cell_type": "code",
   "execution_count": 40,
   "metadata": {},
   "outputs": [
    {
     "data": {
      "text/plain": [
       "_io.TextIOWrapper"
      ]
     },
     "execution_count": 40,
     "metadata": {},
     "output_type": "execute_result"
    }
   ],
   "source": [
    "type(file)"
   ]
  },
  {
   "cell_type": "code",
   "execution_count": 41,
   "metadata": {},
   "outputs": [
    {
     "name": "stdout",
     "output_type": "stream",
     "text": [
      "<_io.TextIOWrapper name='./aussonderung.csv' mode='r' encoding='cp1252'>\n"
     ]
    }
   ],
   "source": [
    "print(file)"
   ]
  },
  {
   "cell_type": "markdown",
   "metadata": {},
   "source": [
    "### Anzeigen des Inhaltes"
   ]
  },
  {
   "cell_type": "code",
   "execution_count": 42,
   "metadata": {},
   "outputs": [
    {
     "data": {
      "text/plain": [
       "['HT019793989\\n', 'HT020379995\\n', 'HT020319679\\n', 'HT014682026\\n']"
      ]
     },
     "execution_count": 42,
     "metadata": {},
     "output_type": "execute_result"
    }
   ],
   "source": [
    "content = file.readlines()\n",
    "content"
   ]
  },
  {
   "cell_type": "markdown",
   "metadata": {},
   "source": [
    "### Kürzeres Öffnen der Datei als Liste samt Festlegung einer Variable"
   ]
  },
  {
   "cell_type": "code",
   "execution_count": 104,
   "metadata": {},
   "outputs": [],
   "source": [
    "with open('./aussonderung.csv', 'r') as infile:\n",
    "    titles = infile.readlines()"
   ]
  },
  {
   "cell_type": "markdown",
   "metadata": {},
   "source": [
    "### Verifizierung des Typs"
   ]
  },
  {
   "cell_type": "code",
   "execution_count": 105,
   "metadata": {},
   "outputs": [
    {
     "data": {
      "text/plain": [
       "list"
      ]
     },
     "execution_count": 105,
     "metadata": {},
     "output_type": "execute_result"
    }
   ],
   "source": [
    "type(titles)"
   ]
  },
  {
   "cell_type": "markdown",
   "metadata": {},
   "source": [
    "### Anzeige der Liste"
   ]
  },
  {
   "cell_type": "code",
   "execution_count": 106,
   "metadata": {},
   "outputs": [
    {
     "data": {
      "text/plain": [
       "['HT019793989\\n', 'HT020379995\\n', 'HT020319679\\n', 'HT014682026\\n']"
      ]
     },
     "execution_count": 106,
     "metadata": {},
     "output_type": "execute_result"
    }
   ],
   "source": [
    "titles"
   ]
  },
  {
   "cell_type": "markdown",
   "metadata": {},
   "source": [
    "### Anzahl der Listenelemente"
   ]
  },
  {
   "cell_type": "code",
   "execution_count": 107,
   "metadata": {},
   "outputs": [
    {
     "name": "stdout",
     "output_type": "stream",
     "text": [
      "4\n"
     ]
    }
   ],
   "source": [
    "print(len(titles))"
   ]
  },
  {
   "cell_type": "markdown",
   "metadata": {},
   "source": [
    "### Anzeige der Listenelemente"
   ]
  },
  {
   "cell_type": "code",
   "execution_count": 108,
   "metadata": {},
   "outputs": [
    {
     "name": "stdout",
     "output_type": "stream",
     "text": [
      "HT019793989\n",
      "\n",
      "HT020379995\n",
      "\n",
      "HT020319679\n",
      "\n",
      "HT014682026\n",
      "\n"
     ]
    }
   ],
   "source": [
    "for item in titles:\n",
    "    print(item)"
   ]
  },
  {
   "cell_type": "markdown",
   "metadata": {},
   "source": [
    "### Alternatives Öffnen der Datei und Kürzung der Strings der Listenelemente"
   ]
  },
  {
   "cell_type": "code",
   "execution_count": 101,
   "metadata": {},
   "outputs": [
    {
     "name": "stdout",
     "output_type": "stream",
     "text": [
      "HT019793989\n",
      "HT020379995\n",
      "HT020319679\n",
      "HT014682026\n"
     ]
    }
   ],
   "source": [
    "with open('./aussonderung.csv', 'r') as infile:\n",
    "    for line in infile:\n",
    "        print(line.strip())"
   ]
  },
  {
   "cell_type": "markdown",
   "metadata": {},
   "source": [
    "### Kurzversion "
   ]
  },
  {
   "cell_type": "code",
   "execution_count": 102,
   "metadata": {},
   "outputs": [
    {
     "name": "stdout",
     "output_type": "stream",
     "text": [
      "HT019793989\n",
      "HT020379995\n",
      "HT020319679\n",
      "HT014682026\n"
     ]
    }
   ],
   "source": [
    "for line in open('./aussonderung.csv', 'r'):\n",
    "    print(line.strip())"
   ]
  },
  {
   "cell_type": "markdown",
   "metadata": {},
   "source": [
    "# Schleifenabfrage"
   ]
  },
  {
   "cell_type": "markdown",
   "metadata": {},
   "source": [
    "### Festlegung der Variable für die Grund-URL der verwendeten API"
   ]
  },
  {
   "cell_type": "code",
   "execution_count": 23,
   "metadata": {},
   "outputs": [],
   "source": [
    "url = 'https://lobid.org/resources/'"
   ]
  },
  {
   "cell_type": "markdown",
   "metadata": {},
   "source": [
    "### Anzeige der zusammengesetzten URLs aus Grund-URL und HT-Nummern aus der Liste"
   ]
  },
  {
   "cell_type": "code",
   "execution_count": 109,
   "metadata": {},
   "outputs": [
    {
     "name": "stdout",
     "output_type": "stream",
     "text": [
      "https://lobid.org/resources/HT019793989\n",
      "\n",
      "https://lobid.org/resources/HT020379995\n",
      "\n",
      "https://lobid.org/resources/HT020319679\n",
      "\n",
      "https://lobid.org/resources/HT014682026\n",
      "\n"
     ]
    }
   ],
   "source": [
    "for item in titles:\n",
    "    nexturl=url+item\n",
    "    print(nexturl)    "
   ]
  },
  {
   "cell_type": "markdown",
   "metadata": {},
   "source": [
    "### Importieren des requests-Moduls"
   ]
  },
  {
   "cell_type": "code",
   "execution_count": 25,
   "metadata": {},
   "outputs": [],
   "source": [
    "import requests"
   ]
  },
  {
   "cell_type": "markdown",
   "metadata": {},
   "source": [
    "### Schleifenabfrage und Verifizierung "
   ]
  },
  {
   "cell_type": "code",
   "execution_count": 51,
   "metadata": {},
   "outputs": [
    {
     "name": "stdout",
     "output_type": "stream",
     "text": [
      "<Response [200]>\n",
      "<Response [200]>\n",
      "<Response [200]>\n",
      "<Response [200]>\n"
     ]
    }
   ],
   "source": [
    "for item in titles:\n",
    "    r = requests.get(url + line.strip())\n",
    "    print(r)"
   ]
  },
  {
   "cell_type": "markdown",
   "metadata": {},
   "source": [
    "### Anzeige des Typs"
   ]
  },
  {
   "cell_type": "code",
   "execution_count": 52,
   "metadata": {},
   "outputs": [
    {
     "data": {
      "text/plain": [
       "requests.models.Response"
      ]
     },
     "execution_count": 52,
     "metadata": {},
     "output_type": "execute_result"
    }
   ],
   "source": [
    "type(r)"
   ]
  },
  {
   "cell_type": "markdown",
   "metadata": {},
   "source": [
    "### Anzeige Status Code"
   ]
  },
  {
   "cell_type": "code",
   "execution_count": 53,
   "metadata": {},
   "outputs": [
    {
     "data": {
      "text/plain": [
       "200"
      ]
     },
     "execution_count": 53,
     "metadata": {},
     "output_type": "execute_result"
    }
   ],
   "source": [
    "r.status_code"
   ]
  },
  {
   "cell_type": "markdown",
   "metadata": {},
   "source": [
    "### Anzeige Header"
   ]
  },
  {
   "cell_type": "code",
   "execution_count": 54,
   "metadata": {},
   "outputs": [
    {
     "data": {
      "text/plain": [
       "{'Date': 'Tue, 23 Jun 2020 20:02:41 GMT', 'Server': 'Apache/2.4.10 (Linux/SUSE)', 'Content-Type': 'application/json; charset=utf-8', 'Access-Control-Allow-Origin': '*', 'Vary': 'Accept-Encoding', 'Content-Encoding': 'gzip', 'Content-Length': '1840', 'Keep-Alive': 'timeout=15, max=512', 'Connection': 'Keep-Alive'}"
      ]
     },
     "execution_count": 54,
     "metadata": {},
     "output_type": "execute_result"
    }
   ],
   "source": [
    "r.headers"
   ]
  },
  {
   "cell_type": "markdown",
   "metadata": {},
   "source": [
    "### Anzeige des Content Types des Headers"
   ]
  },
  {
   "cell_type": "code",
   "execution_count": 55,
   "metadata": {},
   "outputs": [
    {
     "data": {
      "text/plain": [
       "'application/json; charset=utf-8'"
      ]
     },
     "execution_count": 55,
     "metadata": {},
     "output_type": "execute_result"
    }
   ],
   "source": [
    "r.headers['Content-Type']"
   ]
  },
  {
   "cell_type": "markdown",
   "metadata": {},
   "source": [
    "### Schleifenabfrage mit dem erfolgreichen Versuch, sämtliche Titel anzeigen zu lassen"
   ]
  },
  {
   "cell_type": "code",
   "execution_count": 110,
   "metadata": {},
   "outputs": [
    {
     "name": "stdout",
     "output_type": "stream",
     "text": [
      "{\n",
      "  \"type\" : [ \"Thesis\", \"Book\", \"BibliographicResource\" ],\n",
      "  \"contribution\" : [ {\n",
      "    \"type\" : [ \"Contribution\" ],\n",
      "    \"agent\" : {\n",
      "      \"id\" : \"https://d-nb.info/gnd/1165883198\",\n",
      "      \"type\" : [ \"Person\" ],\n",
      "      \"label\" : \"Hoffmann, Kristin\",\n",
      "      \"altLabel\" : \"Bernhardt, Kristin\",\n",
      "      \"gndIdentifier\" : \"1165883198\"\n",
      "    },\n",
      "    \"role\" : {\n",
      "      \"id\" : \"http://id.loc.gov/vocabulary/relators/cre\",\n",
      "      \"label\" : \"Autor/in\"\n",
      "    }\n",
      "  }, {\n",
      "    \"type\" : [ \"Contribution\" ],\n",
      "    \"agent\" : {\n",
      "      \"id\" : \"https://d-nb.info/gnd/129167142\",\n",
      "      \"type\" : [ \"Person\" ],\n",
      "      \"label\" : \"Beck, Günter W.\",\n",
      "      \"altLabel\" : [ \"Beck, G. W.\", \"Beck, Guenter W.\", \"Beck, Guenter Wilfried\", \"Beck, Günter Wilfried\", \"Beck, G.\", \"Beck, Günter\", \"Beck, Guenter\" ],\n",
      "      \"gndIdentifier\" : \"129167142\"\n",
      "    },\n",
      "    \"role\" : {\n",
      "      \"id\" : \"http://id.loc.gov/vocabulary/relators/dgs\",\n",
      "      \"label\" : \"Akademische Prüfungsperson\"\n",
      "    }\n",
      "  }, {\n",
      "    \"type\" : [ \"Contribution\" ],\n",
      "    \"agent\" : {\n",
      "      \"id\" : \"https://d-nb.info/gnd/64850-4\",\n",
      "      \"type\" : [ \"CorporateBody\" ],\n",
      "      \"label\" : \"Universität Siegen\",\n",
      "      \"altLabel\" : [ \"Université Siegen\", \"Universität-GH Siegen\", \"University Siegen\", \"Siegen University\", \"Universität GH Siegen\", \"Universität-Gesamthochschule Siegen\", \"Universität - Gesamthochschule Siegen\", \"Gesamthochschule Siegen. Universität Siegen\", \"Universität. Siegen\", \"University of Siegen\" ],\n",
      "      \"gndIdentifier\" : \"64850-4\"\n",
      "    },\n",
      "    \"role\" : {\n",
      "      \"id\" : \"http://id.loc.gov/vocabulary/relators/dgg\",\n",
      "      \"label\" : \"Hochschule\"\n",
      "    }\n",
      "  } ],\n",
      "  \"extent\" : \"iv, 110 Seiten\",\n",
      "  \"hasItem\" : [ {\n",
      "    \"id\" : \"http://lobid.org/items/HT019793989:DE-467:08ZZZB28793#!\",\n",
      "    \"type\" : [ \"Item\" ],\n",
      "    \"heldBy\" : {\n",
      "      \"id\" : \"http://lobid.org/organisations/DE-467#!\",\n",
      "      \"label\" : \"lobid Organisation\"\n",
      "    },\n",
      "    \"note\" : \"W_MAG\",\n",
      "    \"callNumber\" : \"08ZZZB28793\",\n",
      "    \"label\" : \"08ZZZB28793\"\n",
      "  } ],\n",
      "  \"responsibilityStatement\" : [ \"vorgelegt von Kristin Hoffmann, geb. Bernhardt ; Erstgutachter: Prof. Dr. Günter W. Beck\" ],\n",
      "  \"language\" : [ {\n",
      "    \"id\" : \"http://id.loc.gov/vocabulary/iso639-2/eng\",\n",
      "    \"label\" : \"Englisch\"\n",
      "  } ],\n",
      "  \"medium\" : [ {\n",
      "    \"id\" : \"http://rdaregistry.info/termList/RDAproductionMethod/1010\",\n",
      "    \"label\" : \"Print\"\n",
      "  } ],\n",
      "  \"related\" : [ {\n",
      "    \"id\" : \"http://lobid.org/resources/HT019794029#!\",\n",
      "    \"label\" : \"Regional finance and growth\"\n",
      "  } ],\n",
      "  \"title\" : \"Regional finance and growth\",\n",
      "  \"hbzId\" : \"HT019793989\",\n",
      "  \"thesisInformation\" : [ \"Universität Siegen, Dissertation, 2018\" ],\n",
      "  \"otherTitleInformation\" : [ \"empirical evidence on the relationship between financial and economic development on the local level\" ],\n",
      "  \"natureOfContent\" : [ {\n",
      "    \"id\" : \"https://d-nb.info/gnd/4113937-9\",\n",
      "    \"label\" : \"Hochschulschrift\"\n",
      "  } ],\n",
      "  \"publication\" : [ {\n",
      "    \"type\" : [ \"PublicationEvent\" ],\n",
      "    \"location\" : \"Siegen\",\n",
      "    \"startDate\" : \"2018\"\n",
      "  } ],\n",
      "  \"sameAs\" : [ {\n",
      "    \"id\" : \"http://hub.culturegraph.org/resource/HBZ-HT019793989\",\n",
      "    \"label\" : \"Culturegraph Ressource\"\n",
      "  } ],\n",
      "  \"describedBy\" : {\n",
      "    \"id\" : \"http://lobid.org/resources/HT019793989\",\n",
      "    \"type\" : [ \"BibliographicDescription\" ],\n",
      "    \"dateCreated\" : \"20180831\",\n",
      "    \"inDataset\" : {\n",
      "      \"id\" : \"http://lobid.org/resources/dataset#!\",\n",
      "      \"label\" : \"lobid-resources – Der hbz-Verbundkatalog als Linked Open Data\"\n",
      "    },\n",
      "    \"resultOf\" : {\n",
      "      \"type\" : [ \"CreateAction\" ],\n",
      "      \"endTime\" : \"2020-06-21T01:42:59\",\n",
      "      \"instrument\" : {\n",
      "        \"id\" : \"https://github.com/hbz/lobid-resources\",\n",
      "        \"type\" : [ \"SoftwareApplication\" ],\n",
      "        \"label\" : \"Software lobid-resources\"\n",
      "      },\n",
      "      \"object\" : {\n",
      "        \"id\" : \"http://lobid.org/hbz01/HT019793989\",\n",
      "        \"type\" : [ \"DataFeedItem\" ],\n",
      "        \"inDataset\" : {\n",
      "          \"id\" : \"https://datahub.io/dataset/hbz_unioncatalog\",\n",
      "          \"label\" : \"hbz_unioncatalog\"\n",
      "        },\n",
      "        \"label\" : \"hbz-Ressource HT019793989 im Exportformat MAB2-XML\"\n",
      "      }\n",
      "    },\n",
      "    \"license\" : [ {\n",
      "      \"id\" : \"http://creativecommons.org/publicdomain/zero/1.0\",\n",
      "      \"label\" : \"Creative Commons-Lizenz CC0 1.0 Universal\"\n",
      "    } ],\n",
      "    \"sourceOrganization\" : {\n",
      "      \"id\" : \"http://lobid.org/organisations/DE-467#!\",\n",
      "      \"label\" : \"lobid Organisation\"\n",
      "    },\n",
      "    \"label\" : \"Webseite der hbz-Ressource HT019793989\"\n",
      "  },\n",
      "  \"@context\" : \"http://lobid.org/resources/context.jsonld\",\n",
      "  \"id\" : \"http://lobid.org/resources/HT019793989#!\"\n",
      "}\n",
      "{\n",
      "  \"type\" : [ \"Thesis\", \"Book\", \"BibliographicResource\" ],\n",
      "  \"contribution\" : [ {\n",
      "    \"type\" : [ \"Contribution\" ],\n",
      "    \"agent\" : {\n",
      "      \"id\" : \"https://d-nb.info/gnd/1205400621\",\n",
      "      \"type\" : [ \"Person\" ],\n",
      "      \"label\" : \"Tabassam, Nadra\",\n",
      "      \"gndIdentifier\" : \"1205400621\"\n",
      "    },\n",
      "    \"role\" : {\n",
      "      \"id\" : \"http://id.loc.gov/vocabulary/relators/cre\",\n",
      "      \"label\" : \"Autor/in\"\n",
      "    }\n",
      "  }, {\n",
      "    \"type\" : [ \"Contribution\" ],\n",
      "    \"agent\" : {\n",
      "      \"id\" : \"https://d-nb.info/gnd/138974063\",\n",
      "      \"type\" : [ \"Person\" ],\n",
      "      \"label\" : \"Obermaisser, Roman\",\n",
      "      \"altLabel\" : \"Obermaisser, R.\",\n",
      "      \"gndIdentifier\" : \"138974063\"\n",
      "    },\n",
      "    \"role\" : {\n",
      "      \"id\" : \"http://id.loc.gov/vocabulary/relators/dgs\",\n",
      "      \"label\" : \"Akademische Prüfungsperson\"\n",
      "    }\n",
      "  }, {\n",
      "    \"type\" : [ \"Contribution\" ],\n",
      "    \"agent\" : {\n",
      "      \"id\" : \"https://d-nb.info/gnd/64850-4\",\n",
      "      \"type\" : [ \"CorporateBody\" ],\n",
      "      \"label\" : \"Universität Siegen\",\n",
      "      \"altLabel\" : [ \"Université Siegen\", \"Universität-GH Siegen\", \"University Siegen\", \"Siegen University\", \"Universität GH Siegen\", \"Universität-Gesamthochschule Siegen\", \"Universität - Gesamthochschule Siegen\", \"Gesamthochschule Siegen. Universität Siegen\", \"Universität. Siegen\", \"University of Siegen\" ],\n",
      "      \"gndIdentifier\" : \"64850-4\"\n",
      "    },\n",
      "    \"role\" : {\n",
      "      \"id\" : \"http://id.loc.gov/vocabulary/relators/dgg\",\n",
      "      \"label\" : \"Hochschule\"\n",
      "    }\n",
      "  } ],\n",
      "  \"extent\" : \"xviii, 146 Seiten\",\n",
      "  \"hasItem\" : [ {\n",
      "    \"id\" : \"http://lobid.org/items/HT020379995:DE-467:09ZZXA20583#!\",\n",
      "    \"type\" : [ \"Item\" ],\n",
      "    \"heldBy\" : {\n",
      "      \"id\" : \"http://lobid.org/organisations/DE-467#!\",\n",
      "      \"label\" : \"lobid Organisation\"\n",
      "    },\n",
      "    \"note\" : \"H_MAG\",\n",
      "    \"callNumber\" : \"09ZZXA20583\",\n",
      "    \"label\" : \"09ZZXA20583\"\n",
      "  }, {\n",
      "    \"id\" : \"http://lobid.org/items/HT020379995:DE-467:08ZZZB30300#!\",\n",
      "    \"type\" : [ \"Item\" ],\n",
      "    \"heldBy\" : {\n",
      "      \"id\" : \"http://lobid.org/organisations/DE-467#!\",\n",
      "      \"label\" : \"lobid Organisation\"\n",
      "    },\n",
      "    \"note\" : \"W_MAG\",\n",
      "    \"callNumber\" : \"08ZZZB30300\",\n",
      "    \"label\" : \"08ZZZB30300\"\n",
      "  } ],\n",
      "  \"responsibilityStatement\" : [ \"submitted by Nadra Tabassam ; Supervisor and First Appraiser: Prof. Dr. Roman Obermaisser, University of Siegen\" ],\n",
      "  \"language\" : [ {\n",
      "    \"id\" : \"http://id.loc.gov/vocabulary/iso639-2/eng\",\n",
      "    \"label\" : \"Englisch\"\n",
      "  } ],\n",
      "  \"medium\" : [ {\n",
      "    \"id\" : \"http://rdaregistry.info/termList/RDAproductionMethod/1010\",\n",
      "    \"label\" : \"Print\"\n",
      "  } ],\n",
      "  \"related\" : [ {\n",
      "    \"id\" : \"http://lobid.org/resources/HT020379999#!\",\n",
      "    \"label\" : \"Minimizing the makespan of diagnostic multi-query graphs in embedded real time systems\"\n",
      "  } ],\n",
      "  \"title\" : \"Minimizing the makespan of diagnostic multi-query graphs in embedded real time systems\",\n",
      "  \"hbzId\" : \"HT020379995\",\n",
      "  \"thesisInformation\" : [ \"Universität Siegen, Dissertation, 2020\" ],\n",
      "  \"natureOfContent\" : [ {\n",
      "    \"id\" : \"https://d-nb.info/gnd/4113937-9\",\n",
      "    \"label\" : \"Hochschulschrift\"\n",
      "  } ],\n",
      "  \"publication\" : [ {\n",
      "    \"type\" : [ \"PublicationEvent\" ],\n",
      "    \"location\" : \"Siegen\",\n",
      "    \"startDate\" : \"2020\"\n",
      "  } ],\n",
      "  \"sameAs\" : [ {\n",
      "    \"id\" : \"http://hub.culturegraph.org/resource/HBZ-HT020379995\",\n",
      "    \"label\" : \"Culturegraph Ressource\"\n",
      "  } ],\n",
      "  \"describedBy\" : {\n",
      "    \"id\" : \"http://lobid.org/resources/HT020379995\",\n",
      "    \"type\" : [ \"BibliographicDescription\" ],\n",
      "    \"dateCreated\" : \"20200226\",\n",
      "    \"inDataset\" : {\n",
      "      \"id\" : \"http://lobid.org/resources/dataset#!\",\n",
      "      \"label\" : \"lobid-resources – Der hbz-Verbundkatalog als Linked Open Data\"\n",
      "    },\n",
      "    \"resultOf\" : {\n",
      "      \"type\" : [ \"CreateAction\" ],\n",
      "      \"endTime\" : \"2020-06-21T01:07:01\",\n",
      "      \"instrument\" : {\n",
      "        \"id\" : \"https://github.com/hbz/lobid-resources\",\n",
      "        \"type\" : [ \"SoftwareApplication\" ],\n",
      "        \"label\" : \"Software lobid-resources\"\n",
      "      },\n",
      "      \"object\" : {\n",
      "        \"id\" : \"http://lobid.org/hbz01/HT020379995\",\n",
      "        \"type\" : [ \"DataFeedItem\" ],\n",
      "        \"inDataset\" : {\n",
      "          \"id\" : \"https://datahub.io/dataset/hbz_unioncatalog\",\n",
      "          \"label\" : \"hbz_unioncatalog\"\n",
      "        },\n",
      "        \"label\" : \"hbz-Ressource HT020379995 im Exportformat MAB2-XML\"\n",
      "      }\n",
      "    },\n",
      "    \"license\" : [ {\n",
      "      \"id\" : \"http://creativecommons.org/publicdomain/zero/1.0\",\n",
      "      \"label\" : \"Creative Commons-Lizenz CC0 1.0 Universal\"\n",
      "    } ],\n",
      "    \"sourceOrganization\" : {\n",
      "      \"id\" : \"http://lobid.org/organisations/DE-467#!\",\n",
      "      \"label\" : \"lobid Organisation\"\n",
      "    },\n",
      "    \"label\" : \"Webseite der hbz-Ressource HT020379995\"\n",
      "  },\n",
      "  \"@context\" : \"http://lobid.org/resources/context.jsonld\",\n",
      "  \"id\" : \"http://lobid.org/resources/HT020379995#!\"\n",
      "}\n",
      "{\n",
      "  \"type\" : [ \"Book\", \"Thesis\", \"BibliographicResource\" ],\n",
      "  \"contribution\" : [ {\n",
      "    \"type\" : [ \"Contribution\" ],\n",
      "    \"agent\" : {\n",
      "      \"id\" : \"https://d-nb.info/gnd/112151054X\",\n",
      "      \"type\" : [ \"Person\" ],\n",
      "      \"label\" : \"Löher, Jonas\",\n",
      "      \"gndIdentifier\" : \"112151054X\"\n",
      "    },\n",
      "    \"role\" : {\n",
      "      \"id\" : \"http://id.loc.gov/vocabulary/relators/cre\",\n",
      "      \"label\" : \"Autor/in\"\n",
      "    }\n",
      "  }, {\n",
      "    \"type\" : [ \"Contribution\" ],\n",
      "    \"agent\" : {\n",
      "      \"id\" : \"https://d-nb.info/gnd/112179967\",\n",
      "      \"type\" : [ \"Person\" ],\n",
      "      \"label\" : \"Welter, Friederike\",\n",
      "      \"dateOfBirth\" : \"1962\",\n",
      "      \"gndIdentifier\" : \"112179967\"\n",
      "    },\n",
      "    \"role\" : {\n",
      "      \"id\" : \"http://id.loc.gov/vocabulary/relators/dgs\",\n",
      "      \"label\" : \"Akademische Prüfungsperson\"\n",
      "    }\n",
      "  }, {\n",
      "    \"type\" : [ \"Contribution\" ],\n",
      "    \"agent\" : {\n",
      "      \"id\" : \"https://d-nb.info/gnd/64850-4\",\n",
      "      \"type\" : [ \"CorporateBody\" ],\n",
      "      \"label\" : \"Universität Siegen\",\n",
      "      \"altLabel\" : [ \"Université Siegen\", \"Universität-GH Siegen\", \"University Siegen\", \"Siegen University\", \"Universität GH Siegen\", \"Universität-Gesamthochschule Siegen\", \"Universität - Gesamthochschule Siegen\", \"Gesamthochschule Siegen. Universität Siegen\", \"Universität. Siegen\", \"University of Siegen\" ],\n",
      "      \"gndIdentifier\" : \"64850-4\"\n",
      "    },\n",
      "    \"role\" : {\n",
      "      \"id\" : \"http://id.loc.gov/vocabulary/relators/dgg\",\n",
      "      \"label\" : \"Hochschule\"\n",
      "    }\n",
      "  } ],\n",
      "  \"extent\" : \"IX, 129 Blätter\",\n",
      "  \"hasItem\" : [ {\n",
      "    \"id\" : \"http://lobid.org/items/HT020319679:DE-386-42:WIR%20631%2F293#!\",\n",
      "    \"type\" : [ \"Item\" ],\n",
      "    \"heldBy\" : {\n",
      "      \"id\" : \"http://lobid.org/organisations/DE-386-42#!\",\n",
      "      \"label\" : \"lobid Organisation\"\n",
      "    },\n",
      "    \"note\" : \"GEB42\",\n",
      "    \"callNumber\" : \"WIR 631/293\",\n",
      "    \"label\" : \"WIR 631/293\"\n",
      "  }, {\n",
      "    \"id\" : \"http://lobid.org/items/HT020319679:DE-467:08ZZZB30122#!\",\n",
      "    \"type\" : [ \"Item\" ],\n",
      "    \"heldBy\" : {\n",
      "      \"id\" : \"http://lobid.org/organisations/DE-467#!\",\n",
      "      \"label\" : \"lobid Organisation\"\n",
      "    },\n",
      "    \"note\" : \"W_MAG\",\n",
      "    \"callNumber\" : \"08ZZZB30122\",\n",
      "    \"label\" : \"08ZZZB30122\"\n",
      "  } ],\n",
      "  \"responsibilityStatement\" : [ \"vorgelegt von Jonas Löher , M.Sc. ; Erstgutachterin : Univ.-Prof. Dr . Friederike Welter\" ],\n",
      "  \"language\" : [ {\n",
      "    \"id\" : \"http://id.loc.gov/vocabulary/iso639-2/eng\",\n",
      "    \"label\" : \"Englisch\"\n",
      "  } ],\n",
      "  \"medium\" : [ {\n",
      "    \"id\" : \"http://rdaregistry.info/termList/RDAproductionMethod/1010\",\n",
      "    \"label\" : \"Print\"\n",
      "  } ],\n",
      "  \"related\" : [ {\n",
      "    \"id\" : \"http://lobid.org/resources/HT020319687#!\",\n",
      "    \"label\" : \"Matching founders and funders in equity crowdfunding\"\n",
      "  } ],\n",
      "  \"subject\" : [ {\n",
      "    \"type\" : [ \"ComplexSubject\" ],\n",
      "    \"componentList\" : [ {\n",
      "      \"id\" : \"https://d-nb.info/gnd/4078599-3\",\n",
      "      \"type\" : [ \"SubjectHeading\" ],\n",
      "      \"source\" : {\n",
      "        \"id\" : \"https://d-nb.info/gnd/7749153-1\",\n",
      "        \"label\" : \"Gemeinsame Normdatei (GND)\"\n",
      "      },\n",
      "      \"label\" : \"Unternehmensgründung\",\n",
      "      \"gndIdentifier\" : \"4078599-3\"\n",
      "    }, {\n",
      "      \"id\" : \"https://d-nb.info/gnd/1041611064\",\n",
      "      \"type\" : [ \"SubjectHeading\" ],\n",
      "      \"source\" : {\n",
      "        \"id\" : \"https://d-nb.info/gnd/7749153-1\",\n",
      "        \"label\" : \"Gemeinsame Normdatei (GND)\"\n",
      "      },\n",
      "      \"label\" : \"Crowdfunding\",\n",
      "      \"gndIdentifier\" : \"1041611064\"\n",
      "    } ],\n",
      "    \"label\" : \"Unternehmensgründung | Crowdfunding\"\n",
      "  } ],\n",
      "  \"title\" : \"Matching founders and funders in equity crowdfunding\",\n",
      "  \"hbzId\" : \"HT020319679\",\n",
      "  \"subjectAltLabel\" : [ \"Junges Unternehmen\", \"Business Start-Up\", \"Geschäftsgründung\", \"Schwarmfinanzierung\", \"Firmengründung\", \"Jungunternehmen\", \"Start-up-Unternehmen\", \"Startup-Unternehmen\", \"Unternehmen / Gründung\", \"Betriebsgründung\", \"Existenzgründung\", \"Gesellschaftsgründung\" ],\n",
      "  \"thesisInformation\" : [ \"Universität Siegen, Dissertation, 2019\" ],\n",
      "  \"natureOfContent\" : [ {\n",
      "    \"id\" : \"https://d-nb.info/gnd/4113937-9\",\n",
      "    \"label\" : \"Hochschulschrift\"\n",
      "  } ],\n",
      "  \"publication\" : [ {\n",
      "    \"type\" : [ \"PublicationEvent\" ],\n",
      "    \"location\" : \"Siegen\",\n",
      "    \"startDate\" : \"2019\"\n",
      "  } ],\n",
      "  \"sameAs\" : [ {\n",
      "    \"id\" : \"http://hub.culturegraph.org/resource/HBZ-HT020319679\",\n",
      "    \"label\" : \"Culturegraph Ressource\"\n",
      "  } ],\n",
      "  \"describedBy\" : {\n",
      "    \"id\" : \"http://lobid.org/resources/HT020319679\",\n",
      "    \"type\" : [ \"BibliographicDescription\" ],\n",
      "    \"modifiedBy\" : {\n",
      "      \"id\" : \"http://lobid.org/organisations/DE-386#!\",\n",
      "      \"label\" : \"lobid Organisation\"\n",
      "    },\n",
      "    \"dateCreated\" : \"20191218\",\n",
      "    \"dateModified\" : \"20200205\",\n",
      "    \"inDataset\" : {\n",
      "      \"id\" : \"http://lobid.org/resources/dataset#!\",\n",
      "      \"label\" : \"lobid-resources – Der hbz-Verbundkatalog als Linked Open Data\"\n",
      "    },\n",
      "    \"resultOf\" : {\n",
      "      \"type\" : [ \"CreateAction\" ],\n",
      "      \"endTime\" : \"2020-06-21T06:10:32\",\n",
      "      \"instrument\" : {\n",
      "        \"id\" : \"https://github.com/hbz/lobid-resources\",\n",
      "        \"type\" : [ \"SoftwareApplication\" ],\n",
      "        \"label\" : \"Software lobid-resources\"\n",
      "      },\n",
      "      \"object\" : {\n",
      "        \"id\" : \"http://lobid.org/hbz01/HT020319679\",\n",
      "        \"type\" : [ \"DataFeedItem\" ],\n",
      "        \"inDataset\" : {\n",
      "          \"id\" : \"https://datahub.io/dataset/hbz_unioncatalog\",\n",
      "          \"label\" : \"hbz_unioncatalog\"\n",
      "        },\n",
      "        \"label\" : \"hbz-Ressource HT020319679 im Exportformat MAB2-XML\"\n",
      "      }\n",
      "    },\n",
      "    \"license\" : [ {\n",
      "      \"id\" : \"http://creativecommons.org/publicdomain/zero/1.0\",\n",
      "      \"label\" : \"Creative Commons-Lizenz CC0 1.0 Universal\"\n",
      "    } ],\n",
      "    \"sourceOrganization\" : {\n",
      "      \"id\" : \"http://lobid.org/organisations/DE-467#!\",\n",
      "      \"label\" : \"lobid Organisation\"\n",
      "    },\n",
      "    \"label\" : \"Webseite der hbz-Ressource HT020319679\"\n",
      "  },\n",
      "  \"@context\" : \"http://lobid.org/resources/context.jsonld\",\n",
      "  \"id\" : \"http://lobid.org/resources/HT020319679#!\"\n",
      "}\n"
     ]
    },
    {
     "name": "stdout",
     "output_type": "stream",
     "text": [
      "{\n",
      "  \"type\" : [ \"BibliographicResource\", \"Book\" ],\n",
      "  \"contribution\" : [ {\n",
      "    \"type\" : [ \"Contribution\" ],\n",
      "    \"agent\" : {\n",
      "      \"id\" : \"https://d-nb.info/gnd/115539778\",\n",
      "      \"type\" : [ \"Person\" ],\n",
      "      \"label\" : \"Hecken, Thomas\",\n",
      "      \"dateOfBirth\" : \"1964\",\n",
      "      \"gndIdentifier\" : \"115539778\"\n",
      "    },\n",
      "    \"role\" : {\n",
      "      \"id\" : \"http://id.loc.gov/vocabulary/relators/cre\",\n",
      "      \"label\" : \"Autor/in\"\n",
      "    }\n",
      "  } ],\n",
      "  \"extent\" : \"218 S.\",\n",
      "  \"hasItem\" : [ {\n",
      "    \"id\" : \"http://lobid.org/items/HT014682026:DE-708:OCW%2FHECK#!\",\n",
      "    \"type\" : [ \"Item\" ],\n",
      "    \"heldBy\" : {\n",
      "      \"id\" : \"http://lobid.org/organisations/DE-708#!\",\n",
      "      \"label\" : \"lobid Organisation\"\n",
      "    },\n",
      "    \"note\" : \"00\",\n",
      "    \"callNumber\" : \"OCW/HECK\",\n",
      "    \"label\" : \"OCW/HECK\"\n",
      "  }, {\n",
      "    \"id\" : \"http://lobid.org/items/HT014682026:DE-361:CQ950%20H448#!\",\n",
      "    \"type\" : [ \"Item\" ],\n",
      "    \"heldBy\" : {\n",
      "      \"id\" : \"http://lobid.org/organisations/DE-361#!\",\n",
      "      \"label\" : \"lobid Organisation\"\n",
      "    },\n",
      "    \"note\" : \"00000014\",\n",
      "    \"callNumber\" : \"CQ950 H448\",\n",
      "    \"label\" : \"CQ950 H448\"\n",
      "  }, {\n",
      "    \"id\" : \"http://lobid.org/items/HT014682026:DE-82:LF1565#!\",\n",
      "    \"type\" : [ \"Item\" ],\n",
      "    \"heldBy\" : {\n",
      "      \"id\" : \"http://lobid.org/organisations/DE-82#!\",\n",
      "      \"label\" : \"lobid Organisation\"\n",
      "    },\n",
      "    \"note\" : \"00000000\",\n",
      "    \"callNumber\" : \"LF1565\",\n",
      "    \"label\" : \"LF1565\"\n",
      "  }, {\n",
      "    \"id\" : \"http://lobid.org/items/HT014682026:DE-5-7:H%20439%2F6%20d#!\",\n",
      "    \"type\" : [ \"Item\" ],\n",
      "    \"heldBy\" : {\n",
      "      \"id\" : \"http://lobid.org/organisations/DE-5-7#!\",\n",
      "      \"label\" : \"lobid Organisation\"\n",
      "    },\n",
      "    \"note\" : \"00058000\",\n",
      "    \"callNumber\" : \"H 439/6 d\",\n",
      "    \"label\" : \"H 439/6 d\"\n",
      "  }, {\n",
      "    \"id\" : \"http://lobid.org/items/HT014682026:DE-Bm3-2:AB%20314%2F3#!\",\n",
      "    \"type\" : [ \"Item\" ],\n",
      "    \"heldBy\" : {\n",
      "      \"id\" : \"http://lobid.org/organisations/DE-Bm3-2#!\",\n",
      "      \"label\" : \"lobid Organisation\"\n",
      "    },\n",
      "    \"note\" : \"F\",\n",
      "    \"callNumber\" : \"AB 314/3\",\n",
      "    \"label\" : \"AB 314/3\"\n",
      "  }, {\n",
      "    \"id\" : \"http://lobid.org/items/HT014682026:DE-294:CXB9423#!\",\n",
      "    \"type\" : [ \"Item\" ],\n",
      "    \"heldBy\" : {\n",
      "      \"id\" : \"http://lobid.org/organisations/DE-294#!\",\n",
      "      \"label\" : \"lobid Organisation\"\n",
      "    },\n",
      "    \"note\" : \"00000013\",\n",
      "    \"callNumber\" : \"CXB9423\",\n",
      "    \"label\" : \"CXB9423\"\n",
      "  }, {\n",
      "    \"id\" : \"http://lobid.org/items/HT014682026:DE-467:01AGPP1053#!\",\n",
      "    \"type\" : [ \"Item\" ],\n",
      "    \"heldBy\" : {\n",
      "      \"id\" : \"http://lobid.org/organisations/DE-467#!\",\n",
      "      \"label\" : \"lobid Organisation\"\n",
      "    },\n",
      "    \"note\" : \"H4\",\n",
      "    \"callNumber\" : \"01AGPP1053\",\n",
      "    \"label\" : \"01AGPP1053\"\n",
      "  }, {\n",
      "    \"id\" : \"http://lobid.org/items/HT014682026:DE-294-61:K%20Gf%20II%20311.1#!\",\n",
      "    \"type\" : [ \"Item\" ],\n",
      "    \"heldBy\" : {\n",
      "      \"id\" : \"http://lobid.org/organisations/DE-294-61#!\",\n",
      "      \"label\" : \"lobid Organisation\"\n",
      "    },\n",
      "    \"note\" : \"00061000\",\n",
      "    \"callNumber\" : \"K Gf II 311.1\",\n",
      "    \"label\" : \"K Gf II 311.1\"\n",
      "  }, {\n",
      "    \"id\" : \"http://lobid.org/items/HT014682026:DE-6-248:Ir%20455,18#!\",\n",
      "    \"type\" : [ \"Item\" ],\n",
      "    \"heldBy\" : {\n",
      "      \"id\" : \"http://lobid.org/organisations/DE-6-248#!\",\n",
      "      \"label\" : \"lobid Organisation\"\n",
      "    },\n",
      "    \"note\" : \"00016001\",\n",
      "    \"callNumber\" : \"Ir 455,18\",\n",
      "    \"label\" : \"Ir 455,18\"\n",
      "  }, {\n",
      "    \"id\" : \"http://lobid.org/items/HT014682026:DE-290:D%2036043#!\",\n",
      "    \"type\" : [ \"Item\" ],\n",
      "    \"heldBy\" : {\n",
      "      \"id\" : \"http://lobid.org/organisations/DE-290#!\",\n",
      "      \"label\" : \"lobid Organisation\"\n",
      "    },\n",
      "    \"note\" : \"00000001\",\n",
      "    \"callNumber\" : \"D 36043\",\n",
      "    \"label\" : \"D 36043\"\n",
      "  }, {\n",
      "    \"id\" : \"http://lobid.org/items/HT014682026:DE-465:OHU2143#!\",\n",
      "    \"type\" : [ \"Item\" ],\n",
      "    \"heldBy\" : {\n",
      "      \"id\" : \"http://lobid.org/organisations/DE-465#!\",\n",
      "      \"label\" : \"lobid Organisation\"\n",
      "    },\n",
      "    \"note\" : \"E11\",\n",
      "    \"callNumber\" : \"OHU2143\",\n",
      "    \"label\" : \"OHU2143\"\n",
      "  }, {\n",
      "    \"id\" : \"http://lobid.org/items/HT014682026:DE-61:alge975.h448#!\",\n",
      "    \"type\" : [ \"Item\" ],\n",
      "    \"heldBy\" : {\n",
      "      \"id\" : \"http://lobid.org/organisations/DE-61#!\",\n",
      "      \"label\" : \"lobid Organisation\"\n",
      "    },\n",
      "    \"note\" : \"01\",\n",
      "    \"callNumber\" : \"alge975.h448\",\n",
      "    \"label\" : \"alge975.h448\"\n",
      "  } ],\n",
      "  \"responsibilityStatement\" : [ \"Thomas Hecken\" ],\n",
      "  \"description\" : [ {\n",
      "    \"id\" : \"http://deposit.dnb.de/cgi-bin/dokserv?id=2764211&prov=M&dok_var=1&dok_ext=htm\",\n",
      "    \"label\" : \"dokserv?id=2764211&prov=M&dok_var=1&dok_ext=htm\"\n",
      "  } ],\n",
      "  \"language\" : [ {\n",
      "    \"id\" : \"http://id.loc.gov/vocabulary/iso639-2/deu\",\n",
      "    \"label\" : \"Deutsch\"\n",
      "  } ],\n",
      "  \"medium\" : [ {\n",
      "    \"id\" : \"http://rdaregistry.info/termList/RDAproductionMethod/1010\",\n",
      "    \"label\" : \"Print\"\n",
      "  } ],\n",
      "  \"subject\" : [ {\n",
      "    \"type\" : [ \"ComplexSubject\" ],\n",
      "    \"componentList\" : [ {\n",
      "      \"id\" : \"https://d-nb.info/gnd/4130375-1\",\n",
      "      \"type\" : [ \"SubjectHeading\" ],\n",
      "      \"source\" : {\n",
      "        \"id\" : \"https://d-nb.info/gnd/7749153-1\",\n",
      "        \"label\" : \"Gemeinsame Normdatei (GND)\"\n",
      "      },\n",
      "      \"label\" : \"Gegenkultur\",\n",
      "      \"gndIdentifier\" : \"4130375-1\"\n",
      "    }, {\n",
      "      \"type\" : [ \"SubjectHeading\" ],\n",
      "      \"label\" : \"Geschichte 1950-1970\"\n",
      "    } ],\n",
      "    \"label\" : \"Gegenkultur | Geschichte 1950-1970\"\n",
      "  } ],\n",
      "  \"tableOfContents\" : [ {\n",
      "    \"id\" : \"http://digitale-objekte.hbz-nrw.de/storage/2007/11/26/file_77/2210699.pdf\",\n",
      "    \"label\" : \"2210699.pdf\"\n",
      "  } ],\n",
      "  \"title\" : \"Gegenkultur und Avantgarde 1950 - 1970\",\n",
      "  \"hbzId\" : \"HT014682026\",\n",
      "  \"subjectAltLabel\" : [ \"Alternative Kultur (Gegenkultur)\", \"Alternativkultur (Gegenkultur)\" ],\n",
      "  \"isbn\" : [ \"3772081576\", \"9783772081576\" ],\n",
      "  \"oclcNumber\" : [ \"181535840\" ],\n",
      "  \"otherTitleInformation\" : [ \"Situationisten, Beatniks, 68er\" ],\n",
      "  \"publication\" : [ {\n",
      "    \"type\" : [ \"PublicationEvent\" ],\n",
      "    \"location\" : \"Tübingen\",\n",
      "    \"publishedBy\" : \"Francke\",\n",
      "    \"startDate\" : \"2006\"\n",
      "  } ],\n",
      "  \"sameAs\" : [ {\n",
      "    \"id\" : \"http://worldcat.org/oclc/181535840\",\n",
      "    \"label\" : \"181535840\"\n",
      "  }, {\n",
      "    \"id\" : \"http://hub.culturegraph.org/resource/HBZ-HT014682026\",\n",
      "    \"label\" : \"Culturegraph Ressource\"\n",
      "  } ],\n",
      "  \"describedBy\" : {\n",
      "    \"id\" : \"http://lobid.org/resources/HT014682026\",\n",
      "    \"type\" : [ \"BibliographicDescription\" ],\n",
      "    \"modifiedBy\" : {\n",
      "      \"id\" : \"http://lobid.org/organisations/DE-467#!\",\n",
      "      \"label\" : \"lobid Organisation\"\n",
      "    },\n",
      "    \"dateCreated\" : \"20060323\",\n",
      "    \"dateModified\" : \"20060427\",\n",
      "    \"inDataset\" : {\n",
      "      \"id\" : \"http://lobid.org/resources/dataset#!\",\n",
      "      \"label\" : \"lobid-resources – Der hbz-Verbundkatalog als Linked Open Data\"\n",
      "    },\n",
      "    \"resultOf\" : {\n",
      "      \"type\" : [ \"CreateAction\" ],\n",
      "      \"endTime\" : \"2020-06-21T06:44:29\",\n",
      "      \"instrument\" : {\n",
      "        \"id\" : \"https://github.com/hbz/lobid-resources\",\n",
      "        \"type\" : [ \"SoftwareApplication\" ],\n",
      "        \"label\" : \"Software lobid-resources\"\n",
      "      },\n",
      "      \"object\" : {\n",
      "        \"id\" : \"http://lobid.org/hbz01/HT014682026\",\n",
      "        \"type\" : [ \"DataFeedItem\" ],\n",
      "        \"inDataset\" : {\n",
      "          \"id\" : \"https://datahub.io/dataset/hbz_unioncatalog\",\n",
      "          \"label\" : \"hbz_unioncatalog\"\n",
      "        },\n",
      "        \"label\" : \"hbz-Ressource HT014682026 im Exportformat MAB2-XML\"\n",
      "      }\n",
      "    },\n",
      "    \"license\" : [ {\n",
      "      \"id\" : \"http://creativecommons.org/publicdomain/zero/1.0\",\n",
      "      \"label\" : \"Creative Commons-Lizenz CC0 1.0 Universal\"\n",
      "    } ],\n",
      "    \"provider\" : {\n",
      "      \"id\" : \"http://lobid.org/organisations/DE-292#!\",\n",
      "      \"label\" : \"lobid Organisation\"\n",
      "    },\n",
      "    \"sourceOrganization\" : {\n",
      "      \"id\" : \"http://lobid.org/organisations/DE-82#!\",\n",
      "      \"label\" : \"lobid Organisation\"\n",
      "    },\n",
      "    \"label\" : \"Webseite der hbz-Ressource HT014682026\"\n",
      "  },\n",
      "  \"@context\" : \"http://lobid.org/resources/context.jsonld\",\n",
      "  \"id\" : \"http://lobid.org/resources/HT014682026#!\"\n",
      "}\n"
     ]
    }
   ],
   "source": [
    "for line in open('./aussonderung.csv', 'r'):\n",
    "    r = requests.get('https://lobid.org/resources/'+line.strip())\n",
    "    print(r.text)"
   ]
  },
  {
   "cell_type": "code",
   "execution_count": 111,
   "metadata": {
    "scrolled": true
   },
   "outputs": [
    {
     "data": {
      "text/plain": [
       "'{\\n  \"type\" : [ \"BibliographicResource\", \"Book\" ],\\n  \"contribution\" : [ {\\n    \"type\" : [ \"Contribution\" ],\\n    \"agent\" : {\\n      \"id\" : \"https://d-nb.info/gnd/115539778\",\\n      \"type\" : [ \"Person\" ],\\n      \"label\" : \"Hecken, Thomas\",\\n      \"dateOfBirth\" : \"1964\",\\n      \"gndIdentifier\" : \"115539778\"\\n    },\\n    \"role\" : {\\n      \"id\" : \"http://id.loc.gov/vocabulary/relators/cre\",\\n      \"label\" : \"Autor/in\"\\n    }\\n  } ],\\n  \"extent\" : \"218 S.\",\\n  \"hasItem\" : [ {\\n    \"id\" : \"http://lobid.org/items/HT014682026:DE-708:OCW%2FHECK#!\",\\n    \"type\" : [ \"Item\" ],\\n    \"heldBy\" : {\\n      \"id\" : \"http://lobid.org/organisations/DE-708#!\",\\n      \"label\" : \"lobid Organisation\"\\n    },\\n    \"note\" : \"00\",\\n    \"callNumber\" : \"OCW/HECK\",\\n    \"label\" : \"OCW/HECK\"\\n  }, {\\n    \"id\" : \"http://lobid.org/items/HT014682026:DE-361:CQ950%20H448#!\",\\n    \"type\" : [ \"Item\" ],\\n    \"heldBy\" : {\\n      \"id\" : \"http://lobid.org/organisations/DE-361#!\",\\n      \"label\" : \"lobid Organisation\"\\n    },\\n    \"note\" : \"00000014\",\\n    \"callNumber\" : \"CQ950 H448\",\\n    \"label\" : \"CQ950 H448\"\\n  }, {\\n    \"id\" : \"http://lobid.org/items/HT014682026:DE-82:LF1565#!\",\\n    \"type\" : [ \"Item\" ],\\n    \"heldBy\" : {\\n      \"id\" : \"http://lobid.org/organisations/DE-82#!\",\\n      \"label\" : \"lobid Organisation\"\\n    },\\n    \"note\" : \"00000000\",\\n    \"callNumber\" : \"LF1565\",\\n    \"label\" : \"LF1565\"\\n  }, {\\n    \"id\" : \"http://lobid.org/items/HT014682026:DE-5-7:H%20439%2F6%20d#!\",\\n    \"type\" : [ \"Item\" ],\\n    \"heldBy\" : {\\n      \"id\" : \"http://lobid.org/organisations/DE-5-7#!\",\\n      \"label\" : \"lobid Organisation\"\\n    },\\n    \"note\" : \"00058000\",\\n    \"callNumber\" : \"H 439/6 d\",\\n    \"label\" : \"H 439/6 d\"\\n  }, {\\n    \"id\" : \"http://lobid.org/items/HT014682026:DE-Bm3-2:AB%20314%2F3#!\",\\n    \"type\" : [ \"Item\" ],\\n    \"heldBy\" : {\\n      \"id\" : \"http://lobid.org/organisations/DE-Bm3-2#!\",\\n      \"label\" : \"lobid Organisation\"\\n    },\\n    \"note\" : \"F\",\\n    \"callNumber\" : \"AB 314/3\",\\n    \"label\" : \"AB 314/3\"\\n  }, {\\n    \"id\" : \"http://lobid.org/items/HT014682026:DE-294:CXB9423#!\",\\n    \"type\" : [ \"Item\" ],\\n    \"heldBy\" : {\\n      \"id\" : \"http://lobid.org/organisations/DE-294#!\",\\n      \"label\" : \"lobid Organisation\"\\n    },\\n    \"note\" : \"00000013\",\\n    \"callNumber\" : \"CXB9423\",\\n    \"label\" : \"CXB9423\"\\n  }, {\\n    \"id\" : \"http://lobid.org/items/HT014682026:DE-467:01AGPP1053#!\",\\n    \"type\" : [ \"Item\" ],\\n    \"heldBy\" : {\\n      \"id\" : \"http://lobid.org/organisations/DE-467#!\",\\n      \"label\" : \"lobid Organisation\"\\n    },\\n    \"note\" : \"H4\",\\n    \"callNumber\" : \"01AGPP1053\",\\n    \"label\" : \"01AGPP1053\"\\n  }, {\\n    \"id\" : \"http://lobid.org/items/HT014682026:DE-294-61:K%20Gf%20II%20311.1#!\",\\n    \"type\" : [ \"Item\" ],\\n    \"heldBy\" : {\\n      \"id\" : \"http://lobid.org/organisations/DE-294-61#!\",\\n      \"label\" : \"lobid Organisation\"\\n    },\\n    \"note\" : \"00061000\",\\n    \"callNumber\" : \"K Gf II 311.1\",\\n    \"label\" : \"K Gf II 311.1\"\\n  }, {\\n    \"id\" : \"http://lobid.org/items/HT014682026:DE-6-248:Ir%20455,18#!\",\\n    \"type\" : [ \"Item\" ],\\n    \"heldBy\" : {\\n      \"id\" : \"http://lobid.org/organisations/DE-6-248#!\",\\n      \"label\" : \"lobid Organisation\"\\n    },\\n    \"note\" : \"00016001\",\\n    \"callNumber\" : \"Ir 455,18\",\\n    \"label\" : \"Ir 455,18\"\\n  }, {\\n    \"id\" : \"http://lobid.org/items/HT014682026:DE-290:D%2036043#!\",\\n    \"type\" : [ \"Item\" ],\\n    \"heldBy\" : {\\n      \"id\" : \"http://lobid.org/organisations/DE-290#!\",\\n      \"label\" : \"lobid Organisation\"\\n    },\\n    \"note\" : \"00000001\",\\n    \"callNumber\" : \"D 36043\",\\n    \"label\" : \"D 36043\"\\n  }, {\\n    \"id\" : \"http://lobid.org/items/HT014682026:DE-465:OHU2143#!\",\\n    \"type\" : [ \"Item\" ],\\n    \"heldBy\" : {\\n      \"id\" : \"http://lobid.org/organisations/DE-465#!\",\\n      \"label\" : \"lobid Organisation\"\\n    },\\n    \"note\" : \"E11\",\\n    \"callNumber\" : \"OHU2143\",\\n    \"label\" : \"OHU2143\"\\n  }, {\\n    \"id\" : \"http://lobid.org/items/HT014682026:DE-61:alge975.h448#!\",\\n    \"type\" : [ \"Item\" ],\\n    \"heldBy\" : {\\n      \"id\" : \"http://lobid.org/organisations/DE-61#!\",\\n      \"label\" : \"lobid Organisation\"\\n    },\\n    \"note\" : \"01\",\\n    \"callNumber\" : \"alge975.h448\",\\n    \"label\" : \"alge975.h448\"\\n  } ],\\n  \"responsibilityStatement\" : [ \"Thomas Hecken\" ],\\n  \"description\" : [ {\\n    \"id\" : \"http://deposit.dnb.de/cgi-bin/dokserv?id=2764211&prov=M&dok_var=1&dok_ext=htm\",\\n    \"label\" : \"dokserv?id=2764211&prov=M&dok_var=1&dok_ext=htm\"\\n  } ],\\n  \"language\" : [ {\\n    \"id\" : \"http://id.loc.gov/vocabulary/iso639-2/deu\",\\n    \"label\" : \"Deutsch\"\\n  } ],\\n  \"medium\" : [ {\\n    \"id\" : \"http://rdaregistry.info/termList/RDAproductionMethod/1010\",\\n    \"label\" : \"Print\"\\n  } ],\\n  \"subject\" : [ {\\n    \"type\" : [ \"ComplexSubject\" ],\\n    \"componentList\" : [ {\\n      \"id\" : \"https://d-nb.info/gnd/4130375-1\",\\n      \"type\" : [ \"SubjectHeading\" ],\\n      \"source\" : {\\n        \"id\" : \"https://d-nb.info/gnd/7749153-1\",\\n        \"label\" : \"Gemeinsame Normdatei (GND)\"\\n      },\\n      \"label\" : \"Gegenkultur\",\\n      \"gndIdentifier\" : \"4130375-1\"\\n    }, {\\n      \"type\" : [ \"SubjectHeading\" ],\\n      \"label\" : \"Geschichte 1950-1970\"\\n    } ],\\n    \"label\" : \"Gegenkultur | Geschichte 1950-1970\"\\n  } ],\\n  \"tableOfContents\" : [ {\\n    \"id\" : \"http://digitale-objekte.hbz-nrw.de/storage/2007/11/26/file_77/2210699.pdf\",\\n    \"label\" : \"2210699.pdf\"\\n  } ],\\n  \"title\" : \"Gegenkultur und Avantgarde 1950 - 1970\",\\n  \"hbzId\" : \"HT014682026\",\\n  \"subjectAltLabel\" : [ \"Alternative Kultur (Gegenkultur)\", \"Alternativkultur (Gegenkultur)\" ],\\n  \"isbn\" : [ \"3772081576\", \"9783772081576\" ],\\n  \"oclcNumber\" : [ \"181535840\" ],\\n  \"otherTitleInformation\" : [ \"Situationisten, Beatniks, 68er\" ],\\n  \"publication\" : [ {\\n    \"type\" : [ \"PublicationEvent\" ],\\n    \"location\" : \"Tübingen\",\\n    \"publishedBy\" : \"Francke\",\\n    \"startDate\" : \"2006\"\\n  } ],\\n  \"sameAs\" : [ {\\n    \"id\" : \"http://worldcat.org/oclc/181535840\",\\n    \"label\" : \"181535840\"\\n  }, {\\n    \"id\" : \"http://hub.culturegraph.org/resource/HBZ-HT014682026\",\\n    \"label\" : \"Culturegraph Ressource\"\\n  } ],\\n  \"describedBy\" : {\\n    \"id\" : \"http://lobid.org/resources/HT014682026\",\\n    \"type\" : [ \"BibliographicDescription\" ],\\n    \"modifiedBy\" : {\\n      \"id\" : \"http://lobid.org/organisations/DE-467#!\",\\n      \"label\" : \"lobid Organisation\"\\n    },\\n    \"dateCreated\" : \"20060323\",\\n    \"dateModified\" : \"20060427\",\\n    \"inDataset\" : {\\n      \"id\" : \"http://lobid.org/resources/dataset#!\",\\n      \"label\" : \"lobid-resources – Der hbz-Verbundkatalog als Linked Open Data\"\\n    },\\n    \"resultOf\" : {\\n      \"type\" : [ \"CreateAction\" ],\\n      \"endTime\" : \"2020-06-21T06:44:29\",\\n      \"instrument\" : {\\n        \"id\" : \"https://github.com/hbz/lobid-resources\",\\n        \"type\" : [ \"SoftwareApplication\" ],\\n        \"label\" : \"Software lobid-resources\"\\n      },\\n      \"object\" : {\\n        \"id\" : \"http://lobid.org/hbz01/HT014682026\",\\n        \"type\" : [ \"DataFeedItem\" ],\\n        \"inDataset\" : {\\n          \"id\" : \"https://datahub.io/dataset/hbz_unioncatalog\",\\n          \"label\" : \"hbz_unioncatalog\"\\n        },\\n        \"label\" : \"hbz-Ressource HT014682026 im Exportformat MAB2-XML\"\\n      }\\n    },\\n    \"license\" : [ {\\n      \"id\" : \"http://creativecommons.org/publicdomain/zero/1.0\",\\n      \"label\" : \"Creative Commons-Lizenz CC0 1.0 Universal\"\\n    } ],\\n    \"provider\" : {\\n      \"id\" : \"http://lobid.org/organisations/DE-292#!\",\\n      \"label\" : \"lobid Organisation\"\\n    },\\n    \"sourceOrganization\" : {\\n      \"id\" : \"http://lobid.org/organisations/DE-82#!\",\\n      \"label\" : \"lobid Organisation\"\\n    },\\n    \"label\" : \"Webseite der hbz-Ressource HT014682026\"\\n  },\\n  \"@context\" : \"http://lobid.org/resources/context.jsonld\",\\n  \"id\" : \"http://lobid.org/resources/HT014682026#!\"\\n}'"
      ]
     },
     "execution_count": 111,
     "metadata": {},
     "output_type": "execute_result"
    }
   ],
   "source": [
    "r.text"
   ]
  },
  {
   "cell_type": "markdown",
   "metadata": {},
   "source": [
    "# Sortierung und Analyse eines Response Objektes"
   ]
  },
  {
   "cell_type": "markdown",
   "metadata": {},
   "source": [
    "### json-Modul importieren"
   ]
  },
  {
   "cell_type": "code",
   "execution_count": 112,
   "metadata": {},
   "outputs": [],
   "source": [
    "import json"
   ]
  },
  {
   "cell_type": "markdown",
   "metadata": {},
   "source": [
    "### Variable festlegen für das json-Objekt"
   ]
  },
  {
   "cell_type": "code",
   "execution_count": 113,
   "metadata": {},
   "outputs": [],
   "source": [
    "data = r.json()"
   ]
  },
  {
   "cell_type": "markdown",
   "metadata": {},
   "source": [
    "### Typ des json-Objektes anzeigen lassen"
   ]
  },
  {
   "cell_type": "code",
   "execution_count": 114,
   "metadata": {},
   "outputs": [
    {
     "data": {
      "text/plain": [
       "dict"
      ]
     },
     "execution_count": 114,
     "metadata": {},
     "output_type": "execute_result"
    }
   ],
   "source": [
    "type(data)"
   ]
  },
  {
   "cell_type": "markdown",
   "metadata": {},
   "source": [
    "### Dictionary anzeigen"
   ]
  },
  {
   "cell_type": "code",
   "execution_count": 115,
   "metadata": {},
   "outputs": [
    {
     "name": "stdout",
     "output_type": "stream",
     "text": [
      "{'type': ['BibliographicResource', 'Book'], 'contribution': [{'type': ['Contribution'], 'agent': {'id': 'https://d-nb.info/gnd/115539778', 'type': ['Person'], 'label': 'Hecken, Thomas', 'dateOfBirth': '1964', 'gndIdentifier': '115539778'}, 'role': {'id': 'http://id.loc.gov/vocabulary/relators/cre', 'label': 'Autor/in'}}], 'extent': '218 S.', 'hasItem': [{'id': 'http://lobid.org/items/HT014682026:DE-708:OCW%2FHECK#!', 'type': ['Item'], 'heldBy': {'id': 'http://lobid.org/organisations/DE-708#!', 'label': 'lobid Organisation'}, 'note': '00', 'callNumber': 'OCW/HECK', 'label': 'OCW/HECK'}, {'id': 'http://lobid.org/items/HT014682026:DE-361:CQ950%20H448#!', 'type': ['Item'], 'heldBy': {'id': 'http://lobid.org/organisations/DE-361#!', 'label': 'lobid Organisation'}, 'note': '00000014', 'callNumber': 'CQ950 H448', 'label': 'CQ950 H448'}, {'id': 'http://lobid.org/items/HT014682026:DE-82:LF1565#!', 'type': ['Item'], 'heldBy': {'id': 'http://lobid.org/organisations/DE-82#!', 'label': 'lobid Organisation'}, 'note': '00000000', 'callNumber': 'LF1565', 'label': 'LF1565'}, {'id': 'http://lobid.org/items/HT014682026:DE-5-7:H%20439%2F6%20d#!', 'type': ['Item'], 'heldBy': {'id': 'http://lobid.org/organisations/DE-5-7#!', 'label': 'lobid Organisation'}, 'note': '00058000', 'callNumber': 'H 439/6 d', 'label': 'H 439/6 d'}, {'id': 'http://lobid.org/items/HT014682026:DE-Bm3-2:AB%20314%2F3#!', 'type': ['Item'], 'heldBy': {'id': 'http://lobid.org/organisations/DE-Bm3-2#!', 'label': 'lobid Organisation'}, 'note': 'F', 'callNumber': 'AB 314/3', 'label': 'AB 314/3'}, {'id': 'http://lobid.org/items/HT014682026:DE-294:CXB9423#!', 'type': ['Item'], 'heldBy': {'id': 'http://lobid.org/organisations/DE-294#!', 'label': 'lobid Organisation'}, 'note': '00000013', 'callNumber': 'CXB9423', 'label': 'CXB9423'}, {'id': 'http://lobid.org/items/HT014682026:DE-467:01AGPP1053#!', 'type': ['Item'], 'heldBy': {'id': 'http://lobid.org/organisations/DE-467#!', 'label': 'lobid Organisation'}, 'note': 'H4', 'callNumber': '01AGPP1053', 'label': '01AGPP1053'}, {'id': 'http://lobid.org/items/HT014682026:DE-294-61:K%20Gf%20II%20311.1#!', 'type': ['Item'], 'heldBy': {'id': 'http://lobid.org/organisations/DE-294-61#!', 'label': 'lobid Organisation'}, 'note': '00061000', 'callNumber': 'K Gf II 311.1', 'label': 'K Gf II 311.1'}, {'id': 'http://lobid.org/items/HT014682026:DE-6-248:Ir%20455,18#!', 'type': ['Item'], 'heldBy': {'id': 'http://lobid.org/organisations/DE-6-248#!', 'label': 'lobid Organisation'}, 'note': '00016001', 'callNumber': 'Ir 455,18', 'label': 'Ir 455,18'}, {'id': 'http://lobid.org/items/HT014682026:DE-290:D%2036043#!', 'type': ['Item'], 'heldBy': {'id': 'http://lobid.org/organisations/DE-290#!', 'label': 'lobid Organisation'}, 'note': '00000001', 'callNumber': 'D 36043', 'label': 'D 36043'}, {'id': 'http://lobid.org/items/HT014682026:DE-465:OHU2143#!', 'type': ['Item'], 'heldBy': {'id': 'http://lobid.org/organisations/DE-465#!', 'label': 'lobid Organisation'}, 'note': 'E11', 'callNumber': 'OHU2143', 'label': 'OHU2143'}, {'id': 'http://lobid.org/items/HT014682026:DE-61:alge975.h448#!', 'type': ['Item'], 'heldBy': {'id': 'http://lobid.org/organisations/DE-61#!', 'label': 'lobid Organisation'}, 'note': '01', 'callNumber': 'alge975.h448', 'label': 'alge975.h448'}], 'responsibilityStatement': ['Thomas Hecken'], 'description': [{'id': 'http://deposit.dnb.de/cgi-bin/dokserv?id=2764211&prov=M&dok_var=1&dok_ext=htm', 'label': 'dokserv?id=2764211&prov=M&dok_var=1&dok_ext=htm'}], 'language': [{'id': 'http://id.loc.gov/vocabulary/iso639-2/deu', 'label': 'Deutsch'}], 'medium': [{'id': 'http://rdaregistry.info/termList/RDAproductionMethod/1010', 'label': 'Print'}], 'subject': [{'type': ['ComplexSubject'], 'componentList': [{'id': 'https://d-nb.info/gnd/4130375-1', 'type': ['SubjectHeading'], 'source': {'id': 'https://d-nb.info/gnd/7749153-1', 'label': 'Gemeinsame Normdatei (GND)'}, 'label': 'Gegenkultur', 'gndIdentifier': '4130375-1'}, {'type': ['SubjectHeading'], 'label': 'Geschichte 1950-1970'}], 'label': 'Gegenkultur | Geschichte 1950-1970'}], 'tableOfContents': [{'id': 'http://digitale-objekte.hbz-nrw.de/storage/2007/11/26/file_77/2210699.pdf', 'label': '2210699.pdf'}], 'title': 'Gegenkultur und Avantgarde 1950 - 1970', 'hbzId': 'HT014682026', 'subjectAltLabel': ['Alternative Kultur (Gegenkultur)', 'Alternativkultur (Gegenkultur)'], 'isbn': ['3772081576', '9783772081576'], 'oclcNumber': ['181535840'], 'otherTitleInformation': ['Situationisten, Beatniks, 68er'], 'publication': [{'type': ['PublicationEvent'], 'location': 'Tübingen', 'publishedBy': 'Francke', 'startDate': '2006'}], 'sameAs': [{'id': 'http://worldcat.org/oclc/181535840', 'label': '181535840'}, {'id': 'http://hub.culturegraph.org/resource/HBZ-HT014682026', 'label': 'Culturegraph Ressource'}], 'describedBy': {'id': 'http://lobid.org/resources/HT014682026', 'type': ['BibliographicDescription'], 'modifiedBy': {'id': 'http://lobid.org/organisations/DE-467#!', 'label': 'lobid Organisation'}, 'dateCreated': '20060323', 'dateModified': '20060427', 'inDataset': {'id': 'http://lobid.org/resources/dataset#!', 'label': 'lobid-resources – Der hbz-Verbundkatalog als Linked Open Data'}, 'resultOf': {'type': ['CreateAction'], 'endTime': '2020-06-21T06:44:29', 'instrument': {'id': 'https://github.com/hbz/lobid-resources', 'type': ['SoftwareApplication'], 'label': 'Software lobid-resources'}, 'object': {'id': 'http://lobid.org/hbz01/HT014682026', 'type': ['DataFeedItem'], 'inDataset': {'id': 'https://datahub.io/dataset/hbz_unioncatalog', 'label': 'hbz_unioncatalog'}, 'label': 'hbz-Ressource HT014682026 im Exportformat MAB2-XML'}}, 'license': [{'id': 'http://creativecommons.org/publicdomain/zero/1.0', 'label': 'Creative Commons-Lizenz CC0 1.0 Universal'}], 'provider': {'id': 'http://lobid.org/organisations/DE-292#!', 'label': 'lobid Organisation'}, 'sourceOrganization': {'id': 'http://lobid.org/organisations/DE-82#!', 'label': 'lobid Organisation'}, 'label': 'Webseite der hbz-Ressource HT014682026'}, '@context': 'http://lobid.org/resources/context.jsonld', 'id': 'http://lobid.org/resources/HT014682026#!'}\n"
     ]
    }
   ],
   "source": [
    "print(data)"
   ]
  },
  {
   "cell_type": "markdown",
   "metadata": {},
   "source": [
    "### In human-readable Form bringen"
   ]
  },
  {
   "cell_type": "code",
   "execution_count": 116,
   "metadata": {},
   "outputs": [
    {
     "name": "stdout",
     "output_type": "stream",
     "text": [
      "{\n",
      "  \"type\": [\n",
      "    \"BibliographicResource\",\n",
      "    \"Book\"\n",
      "  ],\n",
      "  \"contribution\": [\n",
      "    {\n",
      "      \"type\": [\n",
      "        \"Contribution\"\n",
      "      ],\n",
      "      \"agent\": {\n",
      "        \"id\": \"https://d-nb.info/gnd/115539778\",\n",
      "        \"type\": [\n",
      "          \"Person\"\n",
      "        ],\n",
      "        \"label\": \"Hecken, Thomas\",\n",
      "        \"dateOfBirth\": \"1964\",\n",
      "        \"gndIdentifier\": \"115539778\"\n",
      "      },\n",
      "      \"role\": {\n",
      "        \"id\": \"http://id.loc.gov/vocabulary/relators/cre\",\n",
      "        \"label\": \"Autor/in\"\n",
      "      }\n",
      "    }\n",
      "  ],\n",
      "  \"extent\": \"218 S.\",\n",
      "  \"hasItem\": [\n",
      "    {\n",
      "      \"id\": \"http://lobid.org/items/HT014682026:DE-708:OCW%2FHECK#!\",\n",
      "      \"type\": [\n",
      "        \"Item\"\n",
      "      ],\n",
      "      \"heldBy\": {\n",
      "        \"id\": \"http://lobid.org/organisations/DE-708#!\",\n",
      "        \"label\": \"lobid Organisation\"\n",
      "      },\n",
      "      \"note\": \"00\",\n",
      "      \"callNumber\": \"OCW/HECK\",\n",
      "      \"label\": \"OCW/HECK\"\n",
      "    },\n",
      "    {\n",
      "      \"id\": \"http://lobid.org/items/HT014682026:DE-361:CQ950%20H448#!\",\n",
      "      \"type\": [\n",
      "        \"Item\"\n",
      "      ],\n",
      "      \"heldBy\": {\n",
      "        \"id\": \"http://lobid.org/organisations/DE-361#!\",\n",
      "        \"label\": \"lobid Organisation\"\n",
      "      },\n",
      "      \"note\": \"00000014\",\n",
      "      \"callNumber\": \"CQ950 H448\",\n",
      "      \"label\": \"CQ950 H448\"\n",
      "    },\n",
      "    {\n",
      "      \"id\": \"http://lobid.org/items/HT014682026:DE-82:LF1565#!\",\n",
      "      \"type\": [\n",
      "        \"Item\"\n",
      "      ],\n",
      "      \"heldBy\": {\n",
      "        \"id\": \"http://lobid.org/organisations/DE-82#!\",\n",
      "        \"label\": \"lobid Organisation\"\n",
      "      },\n",
      "      \"note\": \"00000000\",\n",
      "      \"callNumber\": \"LF1565\",\n",
      "      \"label\": \"LF1565\"\n",
      "    },\n",
      "    {\n",
      "      \"id\": \"http://lobid.org/items/HT014682026:DE-5-7:H%20439%2F6%20d#!\",\n",
      "      \"type\": [\n",
      "        \"Item\"\n",
      "      ],\n",
      "      \"heldBy\": {\n",
      "        \"id\": \"http://lobid.org/organisations/DE-5-7#!\",\n",
      "        \"label\": \"lobid Organisation\"\n",
      "      },\n",
      "      \"note\": \"00058000\",\n",
      "      \"callNumber\": \"H 439/6 d\",\n",
      "      \"label\": \"H 439/6 d\"\n",
      "    },\n",
      "    {\n",
      "      \"id\": \"http://lobid.org/items/HT014682026:DE-Bm3-2:AB%20314%2F3#!\",\n",
      "      \"type\": [\n",
      "        \"Item\"\n",
      "      ],\n",
      "      \"heldBy\": {\n",
      "        \"id\": \"http://lobid.org/organisations/DE-Bm3-2#!\",\n",
      "        \"label\": \"lobid Organisation\"\n",
      "      },\n",
      "      \"note\": \"F\",\n",
      "      \"callNumber\": \"AB 314/3\",\n",
      "      \"label\": \"AB 314/3\"\n",
      "    },\n",
      "    {\n",
      "      \"id\": \"http://lobid.org/items/HT014682026:DE-294:CXB9423#!\",\n",
      "      \"type\": [\n",
      "        \"Item\"\n",
      "      ],\n",
      "      \"heldBy\": {\n",
      "        \"id\": \"http://lobid.org/organisations/DE-294#!\",\n",
      "        \"label\": \"lobid Organisation\"\n",
      "      },\n",
      "      \"note\": \"00000013\",\n",
      "      \"callNumber\": \"CXB9423\",\n",
      "      \"label\": \"CXB9423\"\n",
      "    },\n",
      "    {\n",
      "      \"id\": \"http://lobid.org/items/HT014682026:DE-467:01AGPP1053#!\",\n",
      "      \"type\": [\n",
      "        \"Item\"\n",
      "      ],\n",
      "      \"heldBy\": {\n",
      "        \"id\": \"http://lobid.org/organisations/DE-467#!\",\n",
      "        \"label\": \"lobid Organisation\"\n",
      "      },\n",
      "      \"note\": \"H4\",\n",
      "      \"callNumber\": \"01AGPP1053\",\n",
      "      \"label\": \"01AGPP1053\"\n",
      "    },\n",
      "    {\n",
      "      \"id\": \"http://lobid.org/items/HT014682026:DE-294-61:K%20Gf%20II%20311.1#!\",\n",
      "      \"type\": [\n",
      "        \"Item\"\n",
      "      ],\n",
      "      \"heldBy\": {\n",
      "        \"id\": \"http://lobid.org/organisations/DE-294-61#!\",\n",
      "        \"label\": \"lobid Organisation\"\n",
      "      },\n",
      "      \"note\": \"00061000\",\n",
      "      \"callNumber\": \"K Gf II 311.1\",\n",
      "      \"label\": \"K Gf II 311.1\"\n",
      "    },\n",
      "    {\n",
      "      \"id\": \"http://lobid.org/items/HT014682026:DE-6-248:Ir%20455,18#!\",\n",
      "      \"type\": [\n",
      "        \"Item\"\n",
      "      ],\n",
      "      \"heldBy\": {\n",
      "        \"id\": \"http://lobid.org/organisations/DE-6-248#!\",\n",
      "        \"label\": \"lobid Organisation\"\n",
      "      },\n",
      "      \"note\": \"00016001\",\n",
      "      \"callNumber\": \"Ir 455,18\",\n",
      "      \"label\": \"Ir 455,18\"\n",
      "    },\n",
      "    {\n",
      "      \"id\": \"http://lobid.org/items/HT014682026:DE-290:D%2036043#!\",\n",
      "      \"type\": [\n",
      "        \"Item\"\n",
      "      ],\n",
      "      \"heldBy\": {\n",
      "        \"id\": \"http://lobid.org/organisations/DE-290#!\",\n",
      "        \"label\": \"lobid Organisation\"\n",
      "      },\n",
      "      \"note\": \"00000001\",\n",
      "      \"callNumber\": \"D 36043\",\n",
      "      \"label\": \"D 36043\"\n",
      "    },\n",
      "    {\n",
      "      \"id\": \"http://lobid.org/items/HT014682026:DE-465:OHU2143#!\",\n",
      "      \"type\": [\n",
      "        \"Item\"\n",
      "      ],\n",
      "      \"heldBy\": {\n",
      "        \"id\": \"http://lobid.org/organisations/DE-465#!\",\n",
      "        \"label\": \"lobid Organisation\"\n",
      "      },\n",
      "      \"note\": \"E11\",\n",
      "      \"callNumber\": \"OHU2143\",\n",
      "      \"label\": \"OHU2143\"\n",
      "    },\n",
      "    {\n",
      "      \"id\": \"http://lobid.org/items/HT014682026:DE-61:alge975.h448#!\",\n",
      "      \"type\": [\n",
      "        \"Item\"\n",
      "      ],\n",
      "      \"heldBy\": {\n",
      "        \"id\": \"http://lobid.org/organisations/DE-61#!\",\n",
      "        \"label\": \"lobid Organisation\"\n",
      "      },\n",
      "      \"note\": \"01\",\n",
      "      \"callNumber\": \"alge975.h448\",\n",
      "      \"label\": \"alge975.h448\"\n",
      "    }\n",
      "  ],\n",
      "  \"responsibilityStatement\": [\n",
      "    \"Thomas Hecken\"\n",
      "  ],\n",
      "  \"description\": [\n",
      "    {\n",
      "      \"id\": \"http://deposit.dnb.de/cgi-bin/dokserv?id=2764211&prov=M&dok_var=1&dok_ext=htm\",\n",
      "      \"label\": \"dokserv?id=2764211&prov=M&dok_var=1&dok_ext=htm\"\n",
      "    }\n",
      "  ],\n",
      "  \"language\": [\n",
      "    {\n",
      "      \"id\": \"http://id.loc.gov/vocabulary/iso639-2/deu\",\n",
      "      \"label\": \"Deutsch\"\n",
      "    }\n",
      "  ],\n",
      "  \"medium\": [\n",
      "    {\n",
      "      \"id\": \"http://rdaregistry.info/termList/RDAproductionMethod/1010\",\n",
      "      \"label\": \"Print\"\n",
      "    }\n",
      "  ],\n",
      "  \"subject\": [\n",
      "    {\n",
      "      \"type\": [\n",
      "        \"ComplexSubject\"\n",
      "      ],\n",
      "      \"componentList\": [\n",
      "        {\n",
      "          \"id\": \"https://d-nb.info/gnd/4130375-1\",\n",
      "          \"type\": [\n",
      "            \"SubjectHeading\"\n",
      "          ],\n",
      "          \"source\": {\n",
      "            \"id\": \"https://d-nb.info/gnd/7749153-1\",\n",
      "            \"label\": \"Gemeinsame Normdatei (GND)\"\n",
      "          },\n",
      "          \"label\": \"Gegenkultur\",\n",
      "          \"gndIdentifier\": \"4130375-1\"\n",
      "        },\n",
      "        {\n",
      "          \"type\": [\n",
      "            \"SubjectHeading\"\n",
      "          ],\n",
      "          \"label\": \"Geschichte 1950-1970\"\n",
      "        }\n",
      "      ],\n",
      "      \"label\": \"Gegenkultur | Geschichte 1950-1970\"\n",
      "    }\n",
      "  ],\n",
      "  \"tableOfContents\": [\n",
      "    {\n",
      "      \"id\": \"http://digitale-objekte.hbz-nrw.de/storage/2007/11/26/file_77/2210699.pdf\",\n",
      "      \"label\": \"2210699.pdf\"\n",
      "    }\n",
      "  ],\n",
      "  \"title\": \"Gegenkultur und Avantgarde 1950 - 1970\",\n",
      "  \"hbzId\": \"HT014682026\",\n",
      "  \"subjectAltLabel\": [\n",
      "    \"Alternative Kultur (Gegenkultur)\",\n",
      "    \"Alternativkultur (Gegenkultur)\"\n",
      "  ],\n",
      "  \"isbn\": [\n",
      "    \"3772081576\",\n",
      "    \"9783772081576\"\n",
      "  ],\n",
      "  \"oclcNumber\": [\n",
      "    \"181535840\"\n",
      "  ],\n",
      "  \"otherTitleInformation\": [\n",
      "    \"Situationisten, Beatniks, 68er\"\n",
      "  ],\n",
      "  \"publication\": [\n",
      "    {\n",
      "      \"type\": [\n",
      "        \"PublicationEvent\"\n",
      "      ],\n",
      "      \"location\": \"T\\u00fcbingen\",\n",
      "      \"publishedBy\": \"Francke\",\n",
      "      \"startDate\": \"2006\"\n",
      "    }\n",
      "  ],\n",
      "  \"sameAs\": [\n",
      "    {\n",
      "      \"id\": \"http://worldcat.org/oclc/181535840\",\n",
      "      \"label\": \"181535840\"\n",
      "    },\n",
      "    {\n",
      "      \"id\": \"http://hub.culturegraph.org/resource/HBZ-HT014682026\",\n",
      "      \"label\": \"Culturegraph Ressource\"\n",
      "    }\n",
      "  ],\n",
      "  \"describedBy\": {\n",
      "    \"id\": \"http://lobid.org/resources/HT014682026\",\n",
      "    \"type\": [\n",
      "      \"BibliographicDescription\"\n",
      "    ],\n",
      "    \"modifiedBy\": {\n",
      "      \"id\": \"http://lobid.org/organisations/DE-467#!\",\n",
      "      \"label\": \"lobid Organisation\"\n",
      "    },\n",
      "    \"dateCreated\": \"20060323\",\n",
      "    \"dateModified\": \"20060427\",\n",
      "    \"inDataset\": {\n",
      "      \"id\": \"http://lobid.org/resources/dataset#!\",\n",
      "      \"label\": \"lobid-resources \\u2013 Der hbz-Verbundkatalog als Linked Open Data\"\n",
      "    },\n",
      "    \"resultOf\": {\n",
      "      \"type\": [\n",
      "        \"CreateAction\"\n",
      "      ],\n",
      "      \"endTime\": \"2020-06-21T06:44:29\",\n",
      "      \"instrument\": {\n",
      "        \"id\": \"https://github.com/hbz/lobid-resources\",\n",
      "        \"type\": [\n",
      "          \"SoftwareApplication\"\n",
      "        ],\n",
      "        \"label\": \"Software lobid-resources\"\n",
      "      },\n",
      "      \"object\": {\n",
      "        \"id\": \"http://lobid.org/hbz01/HT014682026\",\n",
      "        \"type\": [\n",
      "          \"DataFeedItem\"\n",
      "        ],\n",
      "        \"inDataset\": {\n",
      "          \"id\": \"https://datahub.io/dataset/hbz_unioncatalog\",\n",
      "          \"label\": \"hbz_unioncatalog\"\n",
      "        },\n",
      "        \"label\": \"hbz-Ressource HT014682026 im Exportformat MAB2-XML\"\n",
      "      }\n",
      "    },\n",
      "    \"license\": [\n",
      "      {\n",
      "        \"id\": \"http://creativecommons.org/publicdomain/zero/1.0\",\n",
      "        \"label\": \"Creative Commons-Lizenz CC0 1.0 Universal\"\n",
      "      }\n",
      "    ],\n",
      "    \"provider\": {\n",
      "      \"id\": \"http://lobid.org/organisations/DE-292#!\",\n",
      "      \"label\": \"lobid Organisation\"\n",
      "    },\n",
      "    \"sourceOrganization\": {\n",
      "      \"id\": \"http://lobid.org/organisations/DE-82#!\",\n",
      "      \"label\": \"lobid Organisation\"\n",
      "    },\n",
      "    \"label\": \"Webseite der hbz-Ressource HT014682026\"\n",
      "  },\n",
      "  \"@context\": \"http://lobid.org/resources/context.jsonld\",\n",
      "  \"id\": \"http://lobid.org/resources/HT014682026#!\"\n",
      "}\n"
     ]
    }
   ],
   "source": [
    "print(json.dumps(data, indent=2))"
   ]
  },
  {
   "cell_type": "markdown",
   "metadata": {},
   "source": [
    "### Anzeigen der Schlüsselwerte"
   ]
  },
  {
   "cell_type": "code",
   "execution_count": 117,
   "metadata": {},
   "outputs": [
    {
     "name": "stdout",
     "output_type": "stream",
     "text": [
      "dict_keys(['type', 'contribution', 'extent', 'hasItem', 'responsibilityStatement', 'description', 'language', 'medium', 'subject', 'tableOfContents', 'title', 'hbzId', 'subjectAltLabel', 'isbn', 'oclcNumber', 'otherTitleInformation', 'publication', 'sameAs', 'describedBy', '@context', 'id'])\n"
     ]
    }
   ],
   "source": [
    "print(data.keys())"
   ]
  },
  {
   "cell_type": "markdown",
   "metadata": {},
   "source": [
    "### Festlegen der Variable für den zu untersuchenden Key"
   ]
  },
  {
   "cell_type": "code",
   "execution_count": 118,
   "metadata": {},
   "outputs": [],
   "source": [
    "holding = data['hasItem']"
   ]
  },
  {
   "cell_type": "markdown",
   "metadata": {},
   "source": [
    "### Typ des Keys anzeigen"
   ]
  },
  {
   "cell_type": "code",
   "execution_count": 119,
   "metadata": {},
   "outputs": [
    {
     "name": "stdout",
     "output_type": "stream",
     "text": [
      "<class 'list'>\n"
     ]
    }
   ],
   "source": [
    "print(type(holding))"
   ]
  },
  {
   "cell_type": "markdown",
   "metadata": {},
   "source": [
    "### Anzahl der Elemente in der Liste ausgeben"
   ]
  },
  {
   "cell_type": "code",
   "execution_count": 120,
   "metadata": {},
   "outputs": [
    {
     "name": "stdout",
     "output_type": "stream",
     "text": [
      "12\n"
     ]
    }
   ],
   "source": [
    "print(len(holding))"
   ]
  },
  {
   "cell_type": "markdown",
   "metadata": {},
   "source": [
    "### Variable für die Anzahl der Elemente aus der Liste festlegen"
   ]
  },
  {
   "cell_type": "code",
   "execution_count": 121,
   "metadata": {},
   "outputs": [],
   "source": [
    "x = len(holding)"
   ]
  },
  {
   "cell_type": "markdown",
   "metadata": {},
   "source": [
    "### Prüfung, ob die zu untersuchende Bedingung erfüllt ist"
   ]
  },
  {
   "cell_type": "code",
   "execution_count": 122,
   "metadata": {},
   "outputs": [
    {
     "name": "stdout",
     "output_type": "stream",
     "text": [
      "True\n"
     ]
    }
   ],
   "source": [
    "if x > 1 == True:\n",
    "    print(\"True\")\n",
    "else:\n",
    "    print(\"False\")"
   ]
  },
  {
   "cell_type": "markdown",
   "metadata": {},
   "source": [
    "# Ausgabe der Ergebnisse"
   ]
  },
  {
   "cell_type": "markdown",
   "metadata": {},
   "source": [
    "### Festlegung der Variable für den Key, aus dem die zu schreibende HT-Nummer entnommen wird"
   ]
  },
  {
   "cell_type": "code",
   "execution_count": 123,
   "metadata": {},
   "outputs": [],
   "source": [
    "ht = data['id']"
   ]
  },
  {
   "cell_type": "markdown",
   "metadata": {},
   "source": [
    "### Anzeige des Ausgabe-Wertes"
   ]
  },
  {
   "cell_type": "code",
   "execution_count": 124,
   "metadata": {},
   "outputs": [
    {
     "name": "stdout",
     "output_type": "stream",
     "text": [
      "http://lobid.org/resources/HT014682026#!\n"
     ]
    }
   ],
   "source": [
    "print(ht)"
   ]
  },
  {
   "cell_type": "markdown",
   "metadata": {},
   "source": [
    "### Kürzung auf den zu schreibenden Wert in zwei Schritten"
   ]
  },
  {
   "cell_type": "code",
   "execution_count": 125,
   "metadata": {},
   "outputs": [
    {
     "name": "stdout",
     "output_type": "stream",
     "text": [
      "HT014682026#!\n"
     ]
    }
   ],
   "source": [
    "ht_strip = ht.strip(\"http://lobid.org/resources/\")\n",
    "print(ht_strip)"
   ]
  },
  {
   "cell_type": "code",
   "execution_count": 126,
   "metadata": {},
   "outputs": [
    {
     "name": "stdout",
     "output_type": "stream",
     "text": [
      "HT014682026\n"
     ]
    }
   ],
   "source": [
    "ht_number = ht_strip.strip(\"#!\")\n",
    "print(ht_number)"
   ]
  },
  {
   "cell_type": "markdown",
   "metadata": {},
   "source": [
    "### Bedingung für das Schreiben des Wertes in die jeweilige Ausgabe-Datei"
   ]
  },
  {
   "cell_type": "code",
   "execution_count": 127,
   "metadata": {},
   "outputs": [],
   "source": [
    "if x > 1 == True:\n",
    "    with open('./loeschliste.csv', 'w') as outfile1:\n",
    "        outfile1.writelines(ht_number)\n",
    "else:\n",
    "    with open('./alleinbesitz.csv', 'w') as outfile2:\n",
    "        outfile2.writelines(ht_number)"
   ]
  },
  {
   "cell_type": "code",
   "execution_count": null,
   "metadata": {},
   "outputs": [],
   "source": []
  }
 ],
 "metadata": {
  "kernelspec": {
   "display_name": "Python 3",
   "language": "python",
   "name": "python3"
  },
  "language_info": {
   "codemirror_mode": {
    "name": "ipython",
    "version": 3
   },
   "file_extension": ".py",
   "mimetype": "text/x-python",
   "name": "python",
   "nbconvert_exporter": "python",
   "pygments_lexer": "ipython3",
   "version": "3.7.4"
  }
 },
 "nbformat": 4,
 "nbformat_minor": 2
}
